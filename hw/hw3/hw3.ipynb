{
 "cells": [
  {
   "cell_type": "code",
   "execution_count": 15,
   "metadata": {},
   "outputs": [
    {
     "data": {
      "image/png": "[encoded data removed]",
      "text/plain": [
       "<matplotlib.figure.Figure at 0x299f60c8438>"
      ]
     },
     "metadata": {},
     "output_type": "display_data"
    },
    {
     "name": "stdout",
     "output_type": "stream",
     "text": [
      "[  0.   0.   0.   2.  13.   0.   0.   0.   0.   0.   0.   8.  15.   0.   0.\n",
      "   0.   0.   0.   5.  16.   5.   2.   0.   0.   0.   0.  15.  12.   1.  16.\n",
      "   4.   0.   0.   4.  16.   2.   9.  16.   8.   0.   0.   0.  10.  14.  16.\n",
      "  16.   4.   0.   0.   0.   0.   0.  13.   8.   0.   0.   0.   0.   0.   0.\n",
      "  13.   6.   0.   0.]\n",
      "4\n",
      "1797\n"
     ]
    }
   ],
   "source": [
    "# You can load and split the dataset using this code block:\n",
    "\n",
    "from sklearn.datasets import load_digits\n",
    "import matplotlib.pyplot as plt\n",
    "import numpy as np\n",
    "import pandas as pd\n",
    "digits= load_digits()\n",
    "from sklearn.model_selection import train_test_split\n",
    "x_train, x_test, y_train, y_test = train_test_split(digits.data, digits.target, test_size=0.20, random_state=0)\n",
    "\n",
    "# You can view the images using this code snippet:\n",
    "\n",
    "plt.imshow(np.reshape(x_train[7], (8,8)), cmap=plt.cm.gray)\n",
    "plt.show()\n",
    "print(digits.data[100])\n",
    "print(digits.target[100])\n",
    "print(len(digits.target))\n"
   ]
  },
  {
   "cell_type": "code",
   "execution_count": null,
   "metadata": {
    "collapsed": true
   },
   "outputs": [],
   "source": []
  }
 ],
 "metadata": {
  "kernelspec": {
   "display_name": "Python 3",
   "language": "python",
   "name": "python3"
  },
  "language_info": {
   "codemirror_mode": {
    "name": "ipython",
    "version": 3
   },
   "file_extension": ".py",
   "mimetype": "text/x-python",
   "name": "python",
   "nbconvert_exporter": "python",
   "pygments_lexer": "ipython3",
   "version": "3.6.3"
  }
 },
 "nbformat": 4,
 "nbformat_minor": 2
}
