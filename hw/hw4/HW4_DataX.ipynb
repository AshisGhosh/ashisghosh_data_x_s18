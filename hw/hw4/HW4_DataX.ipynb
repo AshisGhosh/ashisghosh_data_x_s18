{
 "cells": [
  {
   "cell_type": "markdown",
   "metadata": {},
   "source": [
    "# HW4"
   ]
  },
  {
   "cell_type": "markdown",
   "metadata": {},
   "source": [
    "# Part 1.1"
   ]
  },
  {
   "cell_type": "code",
   "execution_count": 83,
   "metadata": {},
   "outputs": [],
   "source": [
    "import numpy as np\n",
    "import pandas as pd\n",
    "\n",
    "hasJob = [1,1,1,0,0,0,1,1]\n",
    "hasFamily = [1,1,0,1,0,1,0,0]\n",
    "isAbove30Years = [1,1,1,0,1,0,1,1]\n",
    "defaulter = [0,0,0,0,1,1,1,1]\n",
    "\n",
    "df = pd.DataFrame(data={'HasJob':hasJob, 'HasFamily': hasFamily, 'IsAbove30Years': isAbove30Years, 'Defaulter': defaulter})"
   ]
  },
  {
   "cell_type": "code",
   "execution_count": 84,
   "metadata": {},
   "outputs": [],
   "source": [
    "columns = df.columns.tolist()\n",
    "columns = columns[::-1]\n",
    "df = df[columns]\n"
   ]
  },
  {
   "cell_type": "code",
   "execution_count": 85,
   "metadata": {},
   "outputs": [
    {
     "data": {
      "text/html": [
       "<div>\n",
       "<style>\n",
       "    .dataframe thead tr:only-child th {\n",
       "        text-align: right;\n",
       "    }\n",
       "\n",
       "    .dataframe thead th {\n",
       "        text-align: left;\n",
       "    }\n",
       "\n",
       "    .dataframe tbody tr th {\n",
       "        vertical-align: top;\n",
       "    }\n",
       "</style>\n",
       "<table border=\"1\" class=\"dataframe\">\n",
       "  <thead>\n",
       "    <tr style=\"text-align: right;\">\n",
       "      <th></th>\n",
       "      <th>IsAbove30Years</th>\n",
       "      <th>HasJob</th>\n",
       "      <th>HasFamily</th>\n",
       "      <th>Defaulter</th>\n",
       "    </tr>\n",
       "  </thead>\n",
       "  <tbody>\n",
       "    <tr>\n",
       "      <th>0</th>\n",
       "      <td>1</td>\n",
       "      <td>1</td>\n",
       "      <td>1</td>\n",
       "      <td>0</td>\n",
       "    </tr>\n",
       "    <tr>\n",
       "      <th>1</th>\n",
       "      <td>1</td>\n",
       "      <td>1</td>\n",
       "      <td>1</td>\n",
       "      <td>0</td>\n",
       "    </tr>\n",
       "    <tr>\n",
       "      <th>2</th>\n",
       "      <td>1</td>\n",
       "      <td>1</td>\n",
       "      <td>0</td>\n",
       "      <td>0</td>\n",
       "    </tr>\n",
       "    <tr>\n",
       "      <th>3</th>\n",
       "      <td>0</td>\n",
       "      <td>0</td>\n",
       "      <td>1</td>\n",
       "      <td>0</td>\n",
       "    </tr>\n",
       "    <tr>\n",
       "      <th>4</th>\n",
       "      <td>1</td>\n",
       "      <td>0</td>\n",
       "      <td>0</td>\n",
       "      <td>1</td>\n",
       "    </tr>\n",
       "    <tr>\n",
       "      <th>5</th>\n",
       "      <td>0</td>\n",
       "      <td>0</td>\n",
       "      <td>1</td>\n",
       "      <td>1</td>\n",
       "    </tr>\n",
       "    <tr>\n",
       "      <th>6</th>\n",
       "      <td>1</td>\n",
       "      <td>1</td>\n",
       "      <td>0</td>\n",
       "      <td>1</td>\n",
       "    </tr>\n",
       "    <tr>\n",
       "      <th>7</th>\n",
       "      <td>1</td>\n",
       "      <td>1</td>\n",
       "      <td>0</td>\n",
       "      <td>1</td>\n",
       "    </tr>\n",
       "  </tbody>\n",
       "</table>\n",
       "</div>"
      ],
      "text/plain": [
       "   IsAbove30Years  HasJob  HasFamily  Defaulter\n",
       "0               1       1          1          0\n",
       "1               1       1          1          0\n",
       "2               1       1          0          0\n",
       "3               0       0          1          0\n",
       "4               1       0          0          1\n",
       "5               0       0          1          1\n",
       "6               1       1          0          1\n",
       "7               1       1          0          1"
      ]
     },
     "execution_count": 85,
     "metadata": {},
     "output_type": "execute_result"
    }
   ],
   "source": [
    "df"
   ]
  },
  {
   "cell_type": "code",
   "execution_count": 86,
   "metadata": {},
   "outputs": [],
   "source": [
    "w_default = df['Defaulter'].sum()/df.shape[0]\n",
    "w_hasFam = df['HasFamily'].sum()/df.shape[0]\n",
    "w_hasJob = df['HasJob'].sum()/df.shape[0]\n",
    "w_above30 = df['IsAbove30Years'].sum()/df.shape[0]"
   ]
  },
  {
   "cell_type": "code",
   "execution_count": 87,
   "metadata": {},
   "outputs": [
    {
     "name": "stdout",
     "output_type": "stream",
     "text": [
      "0.5 0.5 0.625 0.75\n"
     ]
    }
   ],
   "source": [
    "print(w_default, w_hasFam, w_hasJob, w_above30)"
   ]
  },
  {
   "cell_type": "code",
   "execution_count": 88,
   "metadata": {},
   "outputs": [
    {
     "name": "stdout",
     "output_type": "stream",
     "text": [
      "0.5 0.4 0.25\n",
      "0.5 0.6666666666666666 0.75\n"
     ]
    },
    {
     "name": "stderr",
     "output_type": "stream",
     "text": [
      "C:\\Users\\Ashis\\Anaconda3\\envs\\data-x\\lib\\site-packages\\ipykernel_launcher.py:1: UserWarning: Boolean Series key will be reindexed to match DataFrame index.\n",
      "  \"\"\"Entry point for launching an IPython kernel.\n",
      "C:\\Users\\Ashis\\Anaconda3\\envs\\data-x\\lib\\site-packages\\ipykernel_launcher.py:2: UserWarning: Boolean Series key will be reindexed to match DataFrame index.\n",
      "  \n",
      "C:\\Users\\Ashis\\Anaconda3\\envs\\data-x\\lib\\site-packages\\ipykernel_launcher.py:3: UserWarning: Boolean Series key will be reindexed to match DataFrame index.\n",
      "  This is separate from the ipykernel package so we can avoid doing imports until\n",
      "C:\\Users\\Ashis\\Anaconda3\\envs\\data-x\\lib\\site-packages\\ipykernel_launcher.py:5: UserWarning: Boolean Series key will be reindexed to match DataFrame index.\n",
      "  \"\"\"\n",
      "C:\\Users\\Ashis\\Anaconda3\\envs\\data-x\\lib\\site-packages\\ipykernel_launcher.py:6: UserWarning: Boolean Series key will be reindexed to match DataFrame index.\n",
      "  \n",
      "C:\\Users\\Ashis\\Anaconda3\\envs\\data-x\\lib\\site-packages\\ipykernel_launcher.py:7: UserWarning: Boolean Series key will be reindexed to match DataFrame index.\n",
      "  import sys\n"
     ]
    }
   ],
   "source": [
    "p_above30 = df[df[\"IsAbove30Years\"]==1][df[\"Defaulter\"]==1].shape[0]/df[df[\"IsAbove30Years\"]==1].shape[0]\n",
    "p_hasJob = df[df[\"HasJob\"]==1][df[\"Defaulter\"]==1].shape[0]/df[df[\"HasJob\"]==1].shape[0]\n",
    "p_hasFam = df[df[\"HasFamily\"]==1][df[\"Defaulter\"]==1].shape[0]/df[df[\"HasFamily\"]==1].shape[0]\n",
    "\n",
    "p_notAbove30 = df[df[\"IsAbove30Years\"]==0][df[\"Defaulter\"]==1].shape[0]/df[df[\"IsAbove30Years\"]==0].shape[0]\n",
    "p_notHasJob = df[df[\"HasJob\"]==0][df[\"Defaulter\"]==1].shape[0]/df[df[\"HasJob\"]==0].shape[0]\n",
    "p_notHasFam = df[df[\"HasFamily\"]==0][df[\"Defaulter\"]==1].shape[0]/df[df[\"HasFamily\"]==0].shape[0]\n",
    "\n",
    "print  (p_above30, p_hasJob, p_hasFam)\n",
    "print (p_notAbove30, p_notHasJob, p_notHasFam)"
   ]
  },
  {
   "cell_type": "code",
   "execution_count": 89,
   "metadata": {},
   "outputs": [],
   "source": [
    "# Entropy Calculations\n",
    "p_above30_ent = (p_above30*np.log2(1/p_above30) + (1-p_above30)*np.log2(1/(1-p_above30)))* w_above30 \\\n",
    "                        + (p_notAbove30*np.log2(1/p_notAbove30) + (1-p_notAbove30)*np.log2(1/(1-p_notAbove30)))*(1-w_above30)\n",
    "p_hasJob_ent = (p_hasJob*np.log2(1/p_hasJob) + (1-p_hasJob)*np.log2(1/(1-p_hasJob)))* w_hasJob \\\n",
    "                        + (p_notHasJob*np.log2(1/p_notHasJob) + (1-p_notHasJob)*np.log2(1/(1-p_notHasJob)))*(1-w_hasJob)\n",
    "p_hasFam_ent = (p_hasFam*np.log2(1/p_hasFam) + (1-p_hasFam)*np.log2(1/(1-p_hasFam)))* w_hasFam \\\n",
    "                        + (p_notHasFam*np.log2(1/p_notHasFam) + (1-p_notHasFam)*np.log2(1/(1-p_notHasFam)))*(1-w_hasFam)"
   ]
  },
  {
   "cell_type": "code",
   "execution_count": 90,
   "metadata": {},
   "outputs": [
    {
     "name": "stdout",
     "output_type": "stream",
     "text": [
      "Entropy Values:\n",
      "Above 30:  1.0  HasJob:  0.951205059305  HasFam:  0.811278124459\n",
      "Information Gained:\n",
      "Above 30:  0.0  HasJob:  0.0487949406954  HasFam:  0.188721875541\n"
     ]
    }
   ],
   "source": [
    "print(\"Entropy Values:\")\n",
    "print(\"Above 30: \", p_above30_ent,\" HasJob: \", p_hasJob_ent, \" HasFam: \",  p_hasFam_ent)\n",
    "\n",
    "print(\"Information Gained:\")\n",
    "print(\"Above 30: \", 1-p_above30_ent,\" HasJob: \", 1-p_hasJob_ent, \" HasFam: \",  1-p_hasFam_ent)"
   ]
  },
  {
   "cell_type": "markdown",
   "metadata": {},
   "source": [
    "# Conclusion\n",
    "\n",
    "Most information is gained from the HasFamily variable, hence that should be used for the first split. "
   ]
  },
  {
   "cell_type": "markdown",
   "metadata": {},
   "source": [
    "# Part 1.2"
   ]
  },
  {
   "cell_type": "code",
   "execution_count": 91,
   "metadata": {},
   "outputs": [],
   "source": [
    "A = 0.7\n",
    "B = 0.2\n",
    "C = 0.1"
   ]
  },
  {
   "cell_type": "code",
   "execution_count": 92,
   "metadata": {},
   "outputs": [],
   "source": [
    "A_ent = np.log2(1/A)\n",
    "B_ent = np.log2(1/B)\n",
    "C_ent = np.log2(1/C)"
   ]
  },
  {
   "cell_type": "code",
   "execution_count": 93,
   "metadata": {},
   "outputs": [],
   "source": [
    "S_ent = A*np.log2(1/A) + B*np.log2(1/B) + C*np.log2(1/C)"
   ]
  },
  {
   "cell_type": "code",
   "execution_count": 94,
   "metadata": {},
   "outputs": [
    {
     "data": {
      "text/plain": [
       "1.1567796494470395"
      ]
     },
     "execution_count": 94,
     "metadata": {},
     "output_type": "execute_result"
    }
   ],
   "source": [
    "S_ent"
   ]
  },
  {
   "cell_type": "markdown",
   "metadata": {},
   "source": [
    "# Conclusion\n",
    "S has an entropy of 1.1568, meaning it should not be compressed into any number of bits less than that as it will be at risk of losing information. "
   ]
  },
  {
   "cell_type": "markdown",
   "metadata": {},
   "source": [
    "# Part 2: Natural Language Processing"
   ]
  },
  {
   "cell_type": "markdown",
   "metadata": {},
   "source": [
    "# Part 2.1\n",
    "\n",
    "A bag of words model collects each of the words independently and effectively just creates a \"bag of words\" - an unordered list of words. This might be useful to see how often certain keywords or terms appear. \n",
    "\n",
    "For a word2vec model, the position of each word relative to its surrounding words is coded in some fashion. This allows for higher quality information. By knowing that two words are next to each other, the meaning can change - i.e. “good” vs. “not good” and also “running” and “running away”. This is very important for semantic analysis. Furthermore, this becomes more useful as we consider a longer string of words even building up to a sentence or paragraph. Also word2vec has representation of each of the words through a classification. These classifications would be previously trained on a corpus allowing for new data/words to be categorized making it easier to understand or map the content of a body of text\n",
    "\n",
    "As mentioned, word2vec is superior to bag of words when higher quality information from a document is needed. Extended past a keyword search or frequency count. Analyses such as semantic analysis is where it is useful. \n",
    "\n",
    "Alternatively, a bag of words model is superior if only lighter information is needed, and the dataset could be quite large. For instance if many articles had to be compared or even just one single very large book. In the instance of determining the genre of a novel for a library, using bag of words may be more efficient. \n"
   ]
  },
  {
   "cell_type": "markdown",
   "metadata": {},
   "source": [
    "# Part 2.2\n",
    "\n",
    "A word vector is a simple representation of the position of a word in the context of a document. Word embedding is where each word is encoded with an array of what is likely weights for a categorization score of that word into different semantic categories. For instance the word “chair” might be embedded with scores for “furniture”, “house, “pet”, etc. Whatever categories would be present in the corpus the model was trained on. Then when analyzing that text and reading “chair”, higher scores for “furniture” should be embedded.\n"
   ]
  },
  {
   "cell_type": "markdown",
   "metadata": {},
   "source": [
    "# Part 2.3\n",
    "\n",
    "A corpus in NLP is effectively the training text for a model. For instance, Python's NLTK has its own corpus which is quite large. The vocabulary is just the list of words found in the corpus that have been trained for. That is unlike the corpus which is the body of text which can be in a variety of different formats. "
   ]
  },
  {
   "cell_type": "code",
   "execution_count": 95,
   "metadata": {},
   "outputs": [],
   "source": [
    "import pandas as pd      \n",
    "import numpy as np\n",
    "from gensim.models import Word2Vec\n",
    "\n",
    "import nltk\n",
    "from nltk.tokenize import sent_tokenize\n",
    "import re\n",
    "from nltk.stem import PorterStemmer\n",
    "from nltk.tag import pos_tag\n",
    "from nltk.stem import WordNetLemmatizer\n"
   ]
  },
  {
   "cell_type": "code",
   "execution_count": 96,
   "metadata": {},
   "outputs": [],
   "source": [
    "train = pd.read_csv(\"prideNprejudice.csv\", header=0, \\\n",
    "                    delimiter=\"\\t\", quoting=0)"
   ]
  },
  {
   "cell_type": "code",
   "execution_count": 97,
   "metadata": {},
   "outputs": [
    {
     "name": "stdout",
     "output_type": "stream",
     "text": [
      "(5370, 1)\n",
      "\n",
      "                                              sentences\n",
      "0     It is a truth universally acknowledged, that a...\n",
      "1     \"My dear Mr. Bennet,\" said his lady to him one...\n",
      "2                       Bennet replied that he had not.\n",
      "3     \"But it is,\" returned she; \"for Mrs. Long has ...\n",
      "4                                Bennet made no answer.\n",
      "5           \"Do you not want to know who has taken it?\"\n",
      "6                           cried his wife impatiently.\n",
      "7     \"_You_ want to tell me, and I have no objectio...\n",
      "8                          \"This was invitation enough.\n",
      "9     \"Why, my dear, you must know, Mrs. Long says t...\n",
      "10                        \"\"What is his name?\"\"Bingley.\n",
      "11                      \"\"Is he married or single?\"\"Oh!\n",
      "12                         Single, my dear, to be sure!\n",
      "13    A single man of large fortune; four orfive tho...\n",
      "14                     What a fine thing for our girls!\n",
      "15                                            \"\"How so?\n",
      "16                              How can it affect them?\n",
      "17    \"\"My dear Mr. Bennet,\" replied his wife, \"how ...\n",
      "18    Youmust know that I am thinking of his marryin...\n",
      "19      \"\"Is that his design in settling here?\"\"Design!\n",
      "20                       Nonsense, how can you talk so!\n",
      "21    But it is very likely that he_may_ fall in lov...\n",
      "22                        \"\"I see no occasion for that.\n",
      "23    You and the girls may go, or you may sendthem ...\n",
      "24                           \"\"My dear, you flatter me.\n",
      "25    I certainly _have_ had my share of beauty, but...\n",
      "26    When a woman has fivegrown-up daughters, she o...\n",
      "27    \"\"In such cases, a woman has not often much be...\n",
      "28    \"\"But, my dear, you must indeed go and see Mr....\n",
      "29        \"\"It is more than I engage for, I assure you.\n",
      "...                                                 ...\n",
      "5340  Elizabeth did all she could to shieldhim from ...\n",
      "5341  With what delighted prideshe afterwards visite...\n",
      "5342  I wish I could say, for the sake of her family...\n",
      "5343  Bennet missed his second daughter exceedingly;...\n",
      "5344  He delighted ingoing to Pemberley, especially ...\n",
      "5345  Bingley and Jane remained at Netherfield only ...\n",
      "5346  So neara vicinity to her mother and Meryton re...\n",
      "5347  The darling wish of hissisters was then gratif...\n",
      "5348  In society so superior to what she had general...\n",
      "5349  She was not of so ungovernable atemper as Lydi...\n",
      "5350  From the further disadvantage of Lydia'ssociet...\n",
      "5351  Mary was obliged to mix more with the world, b...\n",
      "5352  He bore with philosophy the conviction thatEli...\n",
      "5353  The congratulatory letter which Elizabeth rece...\n",
      "5354  The letter was to thiseffect:\"MY DEAR LIZZY,\"I...\n",
      "5355  If you love Mr. Darcy half as well as I do my ...\n",
      "5356  It is a great comfort to have you sorich, and ...\n",
      "5357                                       \"Yours, etc.\n",
      "5358  \"As it happened that Elizabeth had _much_ rath...\n",
      "5359  It had always been evident to her that such an...\n",
      "5360  Their manner of living, even when therestorati...\n",
      "5361  They were always moving from place to place in...\n",
      "5362  His affection forher soon sunk into indifferen...\n",
      "5363  Lydia wasoccasionally a visitor there, when he...\n",
      "5364  They were able to love eachother even as well ...\n",
      "5365  Georgiana had the highest opinionin the world ...\n",
      "5366  He, who had always inspired in herself a respe...\n",
      "5367  Her mind received knowledge which had never be...\n",
      "5368  By Elizabeth's instructions, she began to comp...\n",
      "5369  But at length, by Elizabeth's persuasion,he wa...\n",
      "\n",
      "[5370 rows x 1 columns]\n"
     ]
    }
   ],
   "source": [
    "print(train.shape)\n",
    "print()\n",
    "print(train)\n",
    "df = train.copy()"
   ]
  },
  {
   "cell_type": "code",
   "execution_count": 98,
   "metadata": {},
   "outputs": [],
   "source": [
    "sentences = []\n",
    "for row in df.iterrows():\n",
    "#     print(row[1][\"sentences\"])\n",
    "#     row[1][\"sentences\"] = re.sub('.','. ',row[1][\"sentences\"])\n",
    "    row[1][\"sentences\"] = re.sub('[^a-zA-Z]',' ',row[1][\"sentences\"])\n",
    "    row[1][\"sentences\"] = row[1][\"sentences\"].lower()\n",
    "    sentences.append(row[1][\"sentences\"].split())\n",
    "\n",
    "# print(sentences)\n",
    "# words = sentences.split()\n",
    "# print(words)\n",
    "\n",
    "\n"
   ]
  },
  {
   "cell_type": "code",
   "execution_count": 99,
   "metadata": {},
   "outputs": [],
   "source": [
    "model = Word2Vec(sentences, size=100, window=5, min_count=5, workers=4)"
   ]
  },
  {
   "cell_type": "code",
   "execution_count": 100,
   "metadata": {},
   "outputs": [
    {
     "name": "stderr",
     "output_type": "stream",
     "text": [
      "C:\\Users\\Ashis\\Anaconda3\\envs\\data-x\\lib\\site-packages\\ipykernel_launcher.py:1: DeprecationWarning: Call to deprecated `similarity` (Method will be removed in 4.0.0, use self.wv.similarity() instead).\n",
      "  \"\"\"Entry point for launching an IPython kernel.\n"
     ]
    },
    {
     "data": {
      "text/plain": [
       "0.99412630266149682"
      ]
     },
     "execution_count": 100,
     "metadata": {},
     "output_type": "execute_result"
    }
   ],
   "source": [
    "model.similarity(\"elizabeth\", \"girl\")"
   ]
  },
  {
   "cell_type": "code",
   "execution_count": null,
   "metadata": {},
   "outputs": [],
   "source": []
  },
  {
   "cell_type": "code",
   "execution_count": 101,
   "metadata": {},
   "outputs": [
    {
     "name": "stdout",
     "output_type": "stream",
     "text": [
      "['it', 'is', 'a', 'truth', 'acknowledged', 'that', 'single', 'man', 'in', 'good', 'fortune', 'must', 'be', 'want', 'of', 'wife', 'however', 'little', 'known', 'the', 'feelings', 'or', 'views', 'such', 'may', 'on', 'entering', 'neighbourhood', 'this', 'so', 'well', 'fixed', 'families', 'he', 'considered', 'some', 'one', 'other', 'their', 'daughters', 'my', 'dear', 'mr', 'bennet', 'said', 'his', 'lady', 'to', 'him', 'day', 'have', 'you', 'heard', 'park', 'let', 'at', 'last', 'replied', 'had', 'not', 'but', 'returned', 'she', 'for', 'mrs', 'long', 'has', 'just', 'been', 'here', 'and', 'me', 'all', 'about', 'made', 'no', 'answer', 'do', 'know', 'who', 'taken', 'cried', 'tell', 'i', 'objection', 'hearing', 'was', 'invitation', 'enough', 'why', 'says', 'netherfield', 'young', 'large', 'from', 'north', 'england', 'monday', 'chaise', 'four', 'see', 'place', 'with', 'agreed', 'immediately', 'take', 'possession', 'before', 'servants', 'are', 'tobe', 'house', 'by', 'end', 'next', 'week', 'what', 'name', 'bingley', 'married', 'oh', 'sure', 'thousand', 'year', 'fine', 'thing', 'our', 'girls', 'how', 'can', 'them', 'youmust', 'am', 'thinking', 'marrying', 'design', 'nonsense', 'talk', 'very', 'likely', 'fall', 'love', 'therefore', 'visit', 'assoon', 'as', 'comes', 'occasion', 'go', 'themselves', 'which', 'perhaps', 'will', 'still', 'better', 'handsome', 'any', 'like', 'best', 'flatter', 'certainly', 'share', 'beauty', 'buti', 'pretend', 'anything', 'extraordinary', 'now', 'when', 'woman', 'up', 'ought', 'give', 'over', 'her', 'own', 'cases', 'often', 'much', 'think', 'indeed', 'more', 'than', 'assure', 'consider', 'your', 'only', 'an', 'establishment', 'wouldbe', 'sir', 'william', 'lucas', 'determined', 'merely', 'account', 'general', 'they', 'impossible', 'us', 'if', 'dare', 'say', 'send', 'few', 'lines', 'consent', 'chooses', 'throw', 'word', 'lizzy', 'desire', 'half', 'jane', 'nor', 'humoured', 'lydia', 'always', 'giving', 'preference', 'none', 'recommend', 'silly', 'ignorant', 'something', 'sisters', 'children', 'way', 'delight', 'compassion', 'poor', 'mistake', 'high', 'respect', 'old', 'friends', 'mention', 'twenty', 'years', 'least', 'ah', 'suffer', 'hope', 'get', 'live', 'many', 'men', 'come', 'into', 'use', 'should', 'since', 'depend', 'upon', 'there', 'odd', 'mixture', 'quick', 'parts', 'humour', 'reserve', 'three', 'hadbeen', 'insufficient', 'make', 'understand', 'character', 'less', 'difficult', 'mean', 'understanding', 'information', 'temper', 'fancied', 'herself', 'business', 'life', 'its', 'visiting', 'news', 'among', 'earliest', 'those', 'waited', 'hehad', 'intended', 'though', 'till', 'evening', 'after', 'knowledge', 'then', 'observing', 'second', 'daughter', 'employed', 'addressed', 'we', 'likes', 'forget', 'mamma', 'elizabeth', 'shall', 'meet', 'promised', 'introduce', 'believe', 'two', 'selfish', 'glad', 'find', 'reply', 'unable', 'began', 'don', 't', 'keep', 'kitty', 'heaven', 's', 'sake', 'discretion', 'father', 'ill', 'amusement', 'ball', 'morrow', 'fortnight', 'aye', 'mother', 'does', 'advantage', 'friend', 'acquainted', 'teasing', 'honour', 'acquaintance', 'cannot', 'really', 'else', 'stand', 'chance', 'asshe', 'act', 'kindness', 'office', 'myself', 'stared', 'meaning', 'introduction', 'laid', 'quite', 'agree', 'mary', 'deep', 'reflection', 'books', 'wished', 'sensible', 'knew', 'while', 'ideas', 'continued', 'return', 'sick', 'sorry', 'hear', 'did', 'morning', 'would', 'unlucky', 'actually', 'paid', 'escape', 'astonishment', 'ladies', 'rest', 'first', 'declare', 'expected', 'loved', 'too', 'pleased', 'agood', 'gone', 'never', 'choose', 'spoke', 'left', 'room', 'raptures', 'excellent', 'door', 'ever', 'either', 'matter', 'time', 'making', 'new', 'acquaintances', 'every', 'youngest', 'dance', 'afraid', 'spent', 'soon', 'ask', 'assistance', 'could', 'subject', 'draw', 'satisfactory', 'various', 'questions', 'were', 'obliged', 'accept', 'hand', 'intelligence', 'neighbour', 'report', 'highly', 'favourable', 'whole', 'meant', 'party', 'nothing', 'delightful', 'fond', 'certain', 'step', 'towards', 'heart', 'entertained', 'happily', 'settled', 'husband', 'others', 'equally', 'wish', 'days', 'sat', 'minutes', 'library', 'hopes', 'sight', 'whose', 'saw', 'somewhat', 'dinner', 'afterwards', 'credit', 'arrived', 'bingleywas', 'town', 'following', 'consequently', 'etc', 'imagine', 'arrival', 'hertfordshire', 'fear', 'thathe', 'might', 'another', 'idea', 'being', 'london', 'followed', 'bring', 'gentlemen', 'assembly', 'grieved', 'instead', 'brought', 'five', 'cousin', 'entered', 'eldest', 'looking', 'gentlemanlike', 'easy', 'manners', 'women', 'air', 'decided', 'fashion', 'brother', 'law', 'hurst', 'gentleman', 'darcy', 'drew', 'tall', 'person', 'noble', 'andthe', 'within', 'entrance', 'having', 'ten', 'figure', 'declared', 'hewas', 'looked', 'gave', 'turned', 'discovered', 'above', 'company', 'estate', 'derbyshire', 'disagreeable', 'countenance', 'himself', 'lively', 'danced', 'angry', 'closed', 'early', 'talked', 'amiable', 'qualities', 'speak', 'between', 'once', 'miss', 'declined', 'speaking', 'occasionally', 'most', 'world', 'everybody', 'hoped', 'again', 'amongst', 'violent', 'against', 'dislike', 'ofhis', 'behaviour', 'particular', 'resentment', 'dances', 'during', 'part', 'near', 'conversation', 'came', 'join', 'hate', 'yourself', 'manner', 'unless', 'partner', 'engaged', 'whom', 'punishment', 'met', 'pleasant', 'several', 'pretty', 'dancing', 'girl', 'beautiful', 'creature', 'sitting', 'down', 'behind', 'agreeable', 'turning', 'round', 'moment', 'eye', 'tolerable', 'present', 'consequence', 'enjoy', 'advice', 'walked', 'off', 'told', 'story', 'great', 'spirit', 'disposition', 'delighted', 'altogether', 'passed', 'family', 'seen', 'admired', 'twice', 'gratified', 'felt', 'mentioned', 'catherine', 'without', 'theyhad', 'yet', 'learnt', 'care', 'longbourn', 'village', 'where', 'lived', 'principal', 'found', 'book', 'deal', 'curiosity', 'event', 'expectations', 'rather', 'onthe', 'stranger', 'disappointed', 'out', 'thought', 'asked', 'vexed', 'admire', 'seemed', 'struck', 'inquired', 'got', 'introduced', 'third', 'king', 'maria', 'charming', 'elegant', 'gown', 'interrupted', 'protested', 'seek', 'related', 'bitterness', 'added', 'lose', 'fancy', 'worth', 'pleasing', 'given', 'set', 'alone', 'former', 'inher', 'praise', 'expressed', 'sister', 'happy', 'perfect', 'breeding', 'also', 'possibly', 'complete', 'flattered', 'asking', 'expect', 'compliment', 'difference', 'compliments', 'surprise', 'natural', 'times', 'thanks', 'leave', 'liked', 'people', 'fault', 'anybody', 'eyes', 'anyone', 'makes', 'wonder', 'sense', 'blind', 'common', 'bad', 'equal', 'mistaken', 'listened', 'silence', 'convinced', 'please', 'observation', 'judgement', 'attention', 'shewas', 'disposed', 'fact', 'chose', 'proud', 'thefirst', 'private', 'habit', 'rank', 'respectable', 'circumstance', 'property', 'nearly', 'pounds', 'purchase', 'likewise', 'choice', 'provided', 'liberty', 'whether', 'spend', 'anxious', 'established', 'unwilling', 'table', 'home', 'tempted', 'look', 'hour', 'situation', 'satisfied', 'took', 'steady', 'friendship', 'spite', 'offer', 'greater', 'appeared', 'strength', 'regard', 'highest', 'opinion', 'superior', 'clever', 'same', 'reserved', 'greatly', 'wherever', 'meryton', 'kind', 'contrary', 'smallest', 'interest', 'pleasure', 'smiled', 'allowed', 'pronounced', 'sweet', 'object', 'short', 'walk', 'particularly', 'intimate', 'formerly', 'address', 'strongly', 'small', 'quitting', 'both', 'removed', 'period', 'lodge', 'importance', 'civil', 'allthe', 'friendly', 'obliging', 'presentation', 'st', 'james', 'lucases', 'bennets', 'absolutely', 'necessary', 'charlotte', 'command', 'yes', 'suppose', 'because', 'seem', 'hardly', 'question', 'beyond', 'doubt', 'opinions', 'point', 'purpose', 'yours', 'eliza', 'listening', 'beg', 'put', 'head', 'misfortune', 'night', 'close', 'opening', 'lips', 'ma', 'help', 'guess', 'itwas', 'pride', 'carriage', 'tothe', 'mind', 'talking', 'promise', 'excuse', 'everything', 'favour', 'express', 'right', 'true', 'easily', 'forgive', 'mortified', 'mine', 'observed', 'read', 'feeling', 'self', 'real', 'imaginary', 'vanity', 'words', 'used', 'maybe', 'vain', 'rich', 'drink', 'away', 'due', 'form', 'grew', 'younger', 'received', 'even', 'value', 'probability', 'influence', 'admiration', 'generally', 'evident', 'whenever', 'composure', 'cheerfulness', 'guard', 'impertinent', 'able', 'public', 'case', 'sometimes', 'disadvantage', 'guarded', 'affection', 'opportunity', 'consolation', 'inthe', 'gratitude', 'almost', 'safe', 'itself', 'begin', 'slight', 'show', 'undoubtedly', 'nature', 'allow', 'remember', 'partial', 'endeavour', 'sees', 'tolerably', 'hours', 'together', 'each', 'parties', 'secure', 'leisure', 'plan', 'degree', 'dined', 'these', 'unfolded', 'success', 'happiness', 'marriage', 'entirely', 'felicity', 'continue', 'vexation', 'defects', 'pass', 'laugh', 'sound', 'attentions', 'far', 'clear', 'face', 'expression', 'discovery', 'succeeded', 'mortifying', 'forced', 'light', 'caught', 'perfectly', 'attended', 'doing', 'notice', 'colonel', 'forster', 'approaching', 'intention', 'sucha', 'energy', 'severe', 'turn', 'open', 'instrument', 'follows', 'strange', 'wanting', 'meto', 'play', 'sing', 'sit', 'saying', 'performance', 'means', 'thatshe', 'eagerly', 'hersister', 'plain', 'hard', 'neither', 'taste', 'shehad', 'reached', 'playing', 'request', 'officers', 'joined', 'stood', 'silent', 'indignation', 'mode', 'thoughts', 'perceive', 'thus', 'thereis', 'society', 'pause', 'seeing', 'proper', 'pay', 'avoid', 'feel', 'companion', 'instant', 'moving', 'called', 'toher', 'desirable', 'refuse', 'taking', 'surprised', 'receive', 'back', 'entreat', 'moved', 'order', 'grave', 'propriety', 'ofher', 'attempt', 'persuasion', 'oblige', 'politeness', 'smiling', 'considering', 'inducement', 'conjecture', 'totally', 'wrong', 'bestow', 'desired', 'hewould', 'reflections', 'repeated', 'favourite', 'pray', 'exactly', 'matrimony', 'wishing', 'joy', 'nay', 'serious', 'course', 'pemberley', 'indifference', 'wit', 'entailed', 'relation', 'phillips', 'line', 'distance', 'usually', 'duty', 'aunt', 'shop', 'frequent', 'vacant', 'offered', 'amuse', 'country', 'learn', 'recent', 'militia', 'regiment', 'remain', 'winter', 'names', 'connections', 'length', 'opened', 'nieces', 'unknown', 'suspected', 'going', 'thenext', 'astonished', 'sentiments', 'oftheir', 'age', 'six', 'standing', 'prevented', 'note', 'servant', 'calling', 'haste', 'aloud', 'dine', 'louisa', 'danger', 'tete', 'thegentlemen', 'caroline', 'dining', 'seems', 'stay', 'scheme', 'horses', 'coach', 'spare', 'wanted', 'answered', 'hermother', 'cheerful', 'uneasy', 'lucky', 'aware', 'breakfast', 'scarcely', 'dearest', 'getting', 'through', 'yesterday', 'returning', 'insist', 'jones', 'alarmed', 'comfort', 'pursuit', 'ofmr', 'under', 'orders', 'resolution', 'hint', 'motive', 'miles', 'reason', 'exertion', 'required', 'accepted', 'along', 'parted', 'impatient', 'finding', 'view', 'warmth', 'exercise', 'shown', 'parlour', 'appearance', 'weather', 'therewas', 'complexion', 'asto', 'coming', 'latter', 'inquiries', 'missbennet', 'inconvenience', 'expressing', 'besides', 'expressions', 'treated', 'showed', 'supposed', 'cold', 'bed', 'readily', 'increased', 'quit', 'clock', 'parting', 'clothes', 'dress', 'past', 'summoned', 'solicitude', 'excessively', 'enjoyment', 'anxiety', 'believed', 'cards', 'prefer', 'directly', 'impertinence', 'style', 'wild', 'picture', 'lost', 'whatever', 'sort', 'independence', 'whisper', 'affected', 'speech', 'low', 'uncle', 'inmeryton', 'laughed', 'heartily', 'itwould', 'expense', 'relations', 'renewal', 'coffee', 'drawing', 'invited', 'reading', 'deserve', 'censure', 'things', 'andi', 'thanked', 'afforded', 'larger', 'benefit', 'idle', 'fellow', 'assured', 'suit', 'work', 'comprehend', 'neglect', 'add', 'charles', 'advise', 'possible', 'wholly', 'card', 'observe', 'game', 'spring', 'extremely', 'accomplished', 'tables', 'spoken', 'extent', 'applied', 'boast', 'knowing', 'music', 'possess', 'tone', 'voice', 'deserved', 'improvement', 'longer', 'sex', 'possibility', 'elegance', 'describe', 'forward', 'theother', 'chiefly', 'worse', 'urged', 'sent', 'service', 'recommended', 'proposal', 'uncomfortable', 'miserable', 'supper', 'housekeeper', 'directions', 'chief', 'contents', 'accompanied', 'wasnot', 'recovering', 'health', 'probably', 'listen', 'advisable', 'missbingley', 'removal', 'madam', 'civility', 'become', 'greatest', 'patience', 'prospect', 'hurry', 'done', 'ishould', 'follow', 'run', 'suffered', 'study', 'subjects', 'confined', 'offended', 'gained', 'triumph', 'except', 'places', 'variety', 'nobody', 'concern', 'delicate', 'directed', 'smile', 'persons', 'differently', 'pity', 'child', 'trust', 'wrote', 'overcome', 'already', 'thin', 'inclination', 'iam', 'lest', 'exposing', 'longed', 'repeating', 'apology', 'performed', 'ordered', 'spirits', 'assurance', 'reminded', 'adding', 'ready', 'engagement', 'recovered', 'ofthe', 'shame', 'leaving', 'prevailed', 'appear', 'writing', 'seated', 'letter', 'repeatedly', 'amused', 'formed', 'write', 'uncommonly', 'fast', 'letters', 'fortunate', 'remarkably', 'thank', 'justice', 'determine', 'ease', 'different', 'call', 'piece', 'interesting', 'power', 'resolved', 'thatyou', 'conduct', 'month', 'proved', 'didnot', 'exceedingly', 'denial', 'explain', 'allowing', 'according', 'delay', 'conviction', 'waiting', 'arguments', 'wait', 'change', 'proceed', 'intimacy', 'particulars', 'comparison', 'deference', 'occasions', 'especially', 'sunday', 'sacrifice', 'side', 'indulgence', 'polite', 'earnestly', 'lay', 'frequently', 'pain', 'approbation', 'charm', 'schemes', 'contempt', 'tried', 'provoke', 'walking', 'takes', 'running', 'conceit', 'domestic', 'gallery', 'profession', 'andelizabeth', 'admitted', 'bye', 'ran', 'couple', 'welcomed', 'powers', 'considerable', 'relate', 'instantly', 'advanced', 'steps', 'bow', 'remained', 'full', 'fire', 'further', 'opposite', 'tea', 'justify', 'watching', 'inquiry', 'shecould', 'chosen', 'sooner', 'threw', 'quest', 'mentioning', 'wishes', 'balls', 'usual', 'meeting', 'rational', 'persuade', 'novelty', 'quarter', 'motives', 'incapable', 'explanation', 'method', 'confidence', 'taught', 'presence', 'expose', 'ourselves', 'loss', 'wisest', 'rendered', 'education', 'moments', 'recollection', 'forit', 'remaining', 'tuesday', 'staying', 'fearful', 'communication', 'excited', 'master', 'welcome', 'material', 'saturday', 'separation', 'shook', 'hands', 'circle', 'absence', 'wednesday', 'lately', 'addition', 'happen', 'lord', 'bell', 'hill', 'roused', 'explained', 'ago', 'delicacy', 'collins', 'dead', 'bear', 'entail', 'reach', 'cared', 'affair', 'hunsford', 'kent', 'late', 'uneasiness', 'kept', 'memory', 'terms', 'honourable', 'de', 'bourgh', 'valuable', 'parish', 'earnest', 'grateful', 'herladyship', 'church', 'clergyman', 'moreover', 'peace', 'grounds', 'kindly', 'lead', 'otherwise', 'concerned', 'apologise', 'satisfaction', 'occasional', 'ifhe', 'ladycatherine', 'weeks', 'colour', 'preparing', 'encouragement', 'inclined', 'formal', 'confess', 'fair', 'cousins', 'objects', 'furniture', 'commendation', 'hisown', 'future', 'begged', 'pardon', 'patroness', 'consideration', 'remarkable', 'important', 'ina', 'condescension', 'rosings', 'tomarry', 'humble', 'parsonage', 'stairs', 'garden', 'abode', 'ladyship', 'birth', 'indifferent', 'state', 'judge', 'properly', 'arise', 'passing', 'togive', 'fully', 'glance', 'invite', 'produced', 'exclaimed', 'denny', 'hold', 'interested', 'written', 'bore', 'weak', 'living', 'authority', 'income', 'seeking', 'represented', 'generous', 'alteration', 'beginning', 'mistress', 'atlongbourn', 'smiles', 'couldnot', 'trusted', 'forgotten', 'attend', 'thither', 'prepared', 'folly', 'free', 'fitted', 'ones', 'street', 'window', 'officer', 'wasthe', 'inquire', 'wondered', 'led', 'across', 'spot', 'wickham', 'corps', 'completely', 'civilities', 'suddenly', 'effect', 'changed', 'minute', 'noticed', 'sudden', 'happened', 'justified', 'relationship', 'commission', 'shire', 'windows', 'nice', 'comfortable', 'utmost', 'connection', 'summer', 'understood', 'rooms', 'eight', 'force', 'receiving', 'resolving', 'neighbours', 'unreasonable', 'female', 'finally', 'placed', 'whist', 'eager', 'willing', 'dared', 'connected', 'warmly', 'theworld', 'frightened', 'tempered', 'iwas', 'gives', 'painful', 'recollections', 'increase', 'appearing', 'constant', 'enter', 'employment', 'circumstances', 'eligible', 'attached', 'doubted', 'assert', 'imprudence', 'became', 'honoured', 'son', 'dreadful', 'youth', 'esteemed', 'death', 'nearer', 'virtue', 'assist', 'disgrace', 'attentive', 'affectionate', 'sixteen', 'truly', 'abilities', 'sincere', 'money', 'mere', 'trifle', 'necessity', 'matters', 'anne', 'useless', 'everyone', 'went', 'won', 'enumerating', 'stopped', 'accident', 'deceived', 'causes', 'actual', 'blame', 'capable', 'ceremony', 'distressing', 'knows', 'certainty', 'rising', 'satisfy', 'rate', 'engagements', 'evil', 'visitors', 'prepare', 'sought', 'occurred', 'suspicion', 'purposely', 'approached', 'attendance', 'forbearance', 'partiality', 'distress', 'mortification', 'awkward', 'solemn', 'attending', 'misery', 'application', 'console', 'looks', 'amazement', 'resemblance', 'temptation', 'immediate', 'desirous', 'congratulations', 'youwill', 'strike', 'shortly', 'interruption', 'trying', 'anger', 'disdain', 'george', 'forgot', 'steward', 'false', 'informed', 'interference', 'ignorance', 'havebeen', 'imprudent', 'recollect', 'tohim', 'assurances', 'discourse', 'sentiment', 'nephew', 'thankful', 'thatit', 'thati', 'conscience', 'reception', 'watched', 'timeto', 'increasing', 'pursue', 'plainly', 'perverseness', 'openly', 'expectation', 'advantages', 'believing', 'owe', 'blushed', 'dreaded', 'gradually', 'andshe', 'entreaty', 'prevent', 'proof', 'impatience', 'finished', 'dwelling', 'concluded', 'seriously', 'wouldhave', 'distressed', 'relief', 'rejoiced', 'relieved', 'marked', 'scene', 'utter', 'quitted', 'carriages', 'wedding', 'match', 'need', 'embarrassed', 'quietly', 'permission', 'reasons', 'laughing', 'jenkinson', 'marry', 'esteem', 'reproach', 'forthe', 'proposals', 'addresses', 'refusal', 'risk', 'persuaded', 'economy', 'intending', 'parents', 'fail', 'naturally', 'foolish', 'natured', 'settle', 'altered', 'hopeless', 'refused', 'unhappy', 'conclusion', 'disappointment', 'endeavoured', 'meanwhile', 'hurt', 'regret', 'confusion', 'spared', 'refusing', 'ofthem', 'ground', 'evils', 'peculiar', 'resigned', 'error', 'embarrassment', 'voluntarily', 'contained', 'paper', 'sentence', 'imagined', 'sincerely', 'christmas', 'heightened', 'engaging', 'attachment', 'wants', 'merit', 'supposing', 'months', 'farther', 'lane', 'happiest', 'speedily', 'bestowed', 'apprehension', 'valued', 'secrecy', 'difficulty', 'journey', 'probable', 'encouraged', 'hers', 'telling', 'direct', 'recollected', 'strong', 'remarks', 'broken', 'cause', 'dwelt', 'discover', 'improbable', 'proceeded', 'inform', 'bringing', 'admit', 'feared', 'suspense', 'alluded', 'seldom', 'gracious', 'abhorrence', 'tomake', 'ventured', 'courage', 'toelizabeth', 'try', 'stronger', 'belief', 'ashamed', 'ceased', 'congratulate', 'companions', 'thrown', 'gardiner', 'violently', 'hisfriend', 'gracechurch', 'gardiners', 'stayed', 'alarm', 'tome', 'instance', 'downstairs', 'eagerness', 'perceived', 'fresh', 'fears', 'relating', 'events', 'drove', 'twelvemonth', 'support', 'reasonable', 'niece', 'affairs', 'tour', 'carry', 'lakes', 'source', 'road', 'gate', 'pointing', 'pleasures', 'pointed', 'direction', 'trees', 'front', 'willbe', 'quiet', 'shocked', 'doors', 'dressing', 'hall', 'talents', 'seat', 'chair', 'governess', 'elder', 'bythe', 'trouble', 'indebted', 'concerns', 'carried', 'hurried', 'fitzwilliam', 'thesubject', 'travelling', 'georgiana', 'charge', 'colonelfitzwilliam', 'deny', 'judged', 'rejoice', 'fifty', 'accordingly', 'afford', 'coloured', 'objections', 'separate', 'visitor', 'goodness', 'improved', 'tears', 'conceal', 'intentions', 'endeavours', 'rose', 'obligation', 'expecting', 'acted', 'designed', 'concealed', 'behaved', 'hastily', 'recover', 'delayed', 'impression', 'elopement', 'falsehood', 'horror', 'sum', 'sides', 'remembered', 'prove', 'post', 'drawn', 'unfortunate', 'inn', 'bought', 'brighton', 'papa', 'fun', 'welfare', 'herfather', 'lambton', 'woods', 'wood', 'river', 'reynolds', 'unexpected', 'lawn', 'debts', 'scotland', 'f', 'wretched', 'insuch']\n"
     ]
    }
   ],
   "source": [
    "vocab =  list(model.wv.vocab)\n",
    "print(vocab)\n",
    "# model[vocab]"
   ]
  },
  {
   "cell_type": "code",
   "execution_count": 102,
   "metadata": {},
   "outputs": [
    {
     "name": "stderr",
     "output_type": "stream",
     "text": [
      "C:\\Users\\Ashis\\Anaconda3\\envs\\data-x\\lib\\site-packages\\ipykernel_launcher.py:4: DeprecationWarning: Call to deprecated `__getitem__` (Method will be removed in 4.0.0, use self.wv.__getitem__() instead).\n",
      "  after removing the cwd from sys.path.\n"
     ]
    },
    {
     "data": {
      "image/png": "[encoded data removed]",
      "text/plain": [
       "<matplotlib.figure.Figure at 0x1f26b16cc88>"
      ]
     },
     "metadata": {},
     "output_type": "display_data"
    }
   ],
   "source": [
    "import matplotlib.pyplot as plt\n",
    "from sklearn import decomposition\n",
    "# get two principle components of the feature space\n",
    "pca= decomposition.PCA(n_components=2).fit_transform(model[vocab])\n",
    "\n",
    "# set figure settings\n",
    "plt.figure(figsize=(10,10),dpi=100)\n",
    "\n",
    "# save pca values and vocab in dataframe df\n",
    "df = pd.concat([pd.DataFrame(pca),pd.Series(vocab)],axis=1)\n",
    "df.columns = ['x', 'y', 'word']\n",
    "\n",
    "\n",
    "\n",
    "plt.xlabel(\"Ist principal component\")\n",
    "plt.ylabel('2nd principal component')\n",
    "\n",
    "\n",
    "plt.scatter(x=pca[:, 0], y=pca[:, 1],s=3)\n",
    "for i, word in enumerate(df['word'][0:100]):\n",
    "    plt.annotate(word, (df['x'].iloc[i], df['y'].iloc[i]))\n",
    "plt.title(\"PCA Embedding\")\n",
    "plt.show()     "
   ]
  },
  {
   "cell_type": "markdown",
   "metadata": {},
   "source": [
    "# Evaluations"
   ]
  },
  {
   "cell_type": "code",
   "execution_count": 103,
   "metadata": {},
   "outputs": [
    {
     "name": "stdout",
     "output_type": "stream",
     "text": [
      "0.994126302661\n",
      "('even', 0.9997328519821167)\n",
      "spirit\n",
      "('great', 0.9997955560684204)\n",
      "0.996579198264\n"
     ]
    },
    {
     "name": "stderr",
     "output_type": "stream",
     "text": [
      "C:\\Users\\Ashis\\Anaconda3\\envs\\data-x\\lib\\site-packages\\ipykernel_launcher.py:1: DeprecationWarning: Call to deprecated `similarity` (Method will be removed in 4.0.0, use self.wv.similarity() instead).\n",
      "  \"\"\"Entry point for launching an IPython kernel.\n",
      "C:\\Users\\Ashis\\Anaconda3\\envs\\data-x\\lib\\site-packages\\ipykernel_launcher.py:2: DeprecationWarning: Call to deprecated `most_similar` (Method will be removed in 4.0.0, use self.wv.most_similar() instead).\n",
      "  \n",
      "C:\\Users\\Ashis\\Anaconda3\\envs\\data-x\\lib\\site-packages\\ipykernel_launcher.py:3: DeprecationWarning: Call to deprecated `doesnt_match` (Method will be removed in 4.0.0, use self.wv.doesnt_match() instead).\n",
      "  This is separate from the ipykernel package so we can avoid doing imports until\n",
      "C:\\Users\\Ashis\\Anaconda3\\envs\\data-x\\lib\\site-packages\\ipykernel_launcher.py:4: DeprecationWarning: Call to deprecated `most_similar` (Method will be removed in 4.0.0, use self.wv.most_similar() instead).\n",
      "  after removing the cwd from sys.path.\n",
      "C:\\Users\\Ashis\\Anaconda3\\envs\\data-x\\lib\\site-packages\\ipykernel_launcher.py:5: DeprecationWarning: Call to deprecated `similarity` (Method will be removed in 4.0.0, use self.wv.similarity() instead).\n",
      "  \"\"\"\n"
     ]
    }
   ],
   "source": [
    "print(model.similarity(\"elizabeth\", \"girl\"))\n",
    "print(model.most_similar(\"girl\")[0])\n",
    "print(model.doesnt_match(['story', 'great', 'spirit', 'disposition', 'delighted', 'altogether']))\n",
    "print(model.most_similar(\"woman\")[0])\n",
    "print(model.similarity(\"great\", \"spirit\"))"
   ]
  },
  {
   "cell_type": "markdown",
   "metadata": {},
   "source": [
    "# Part 4"
   ]
  },
  {
   "cell_type": "code",
   "execution_count": 104,
   "metadata": {},
   "outputs": [],
   "source": [
    "import sqlite3"
   ]
  },
  {
   "cell_type": "code",
   "execution_count": 105,
   "metadata": {},
   "outputs": [],
   "source": [
    "connection = sqlite3.connect('parents.db')"
   ]
  },
  {
   "cell_type": "code",
   "execution_count": 106,
   "metadata": {},
   "outputs": [
    {
     "name": "stdout",
     "output_type": "stream",
     "text": [
      " Volume in drive C has no label.\n",
      " Volume Serial Number is 34B9-EDC6\n",
      "\n",
      " Directory of C:\\Users\\Ashis\\Documents\\Code\\ashisghosh_data_x_s18\\hw\\hw4\n",
      "\n",
      "04/24/2018  11:54 AM    <DIR>          .\n",
      "04/24/2018  11:54 AM    <DIR>          ..\n",
      "04/24/2018  04:46 AM    <DIR>          .ipynb_checkpoints\n",
      "04/24/2018  11:54 AM           176,576 HW4_DataX.ipynb\n",
      "04/24/2018  11:54 AM            16,384 parents.db\n",
      "04/24/2018  03:01 AM           683,859 prideNprejudice.csv\n",
      "               3 File(s)        876,819 bytes\n",
      "               3 Dir(s)  31,723,536,384 bytes free\n"
     ]
    }
   ],
   "source": [
    "!dir"
   ]
  },
  {
   "cell_type": "code",
   "execution_count": 107,
   "metadata": {},
   "outputs": [],
   "source": [
    "cursor = connection.cursor()"
   ]
  },
  {
   "cell_type": "code",
   "execution_count": 108,
   "metadata": {},
   "outputs": [
    {
     "data": {
      "text/plain": [
       "<sqlite3.Cursor at 0x1f26aed99d0>"
      ]
     },
     "execution_count": 108,
     "metadata": {},
     "output_type": "execute_result"
    }
   ],
   "source": [
    "cursor.execute(\"DROP TABLE IF EXISTS parents;\")"
   ]
  },
  {
   "cell_type": "code",
   "execution_count": 109,
   "metadata": {},
   "outputs": [],
   "source": [
    "sql_command = \"\"\"\n",
    "CREATE TABLE parents (\n",
    "parent VARCHAR(20),\n",
    "child VARCHAR(20));\n",
    "\"\"\""
   ]
  },
  {
   "cell_type": "code",
   "execution_count": 110,
   "metadata": {},
   "outputs": [
    {
     "data": {
      "text/plain": [
       "<sqlite3.Cursor at 0x1f26aed99d0>"
      ]
     },
     "execution_count": 110,
     "metadata": {},
     "output_type": "execute_result"
    }
   ],
   "source": [
    "cursor.execute(sql_command)"
   ]
  },
  {
   "cell_type": "markdown",
   "metadata": {},
   "source": [
    "# Part 4.1"
   ]
  },
  {
   "cell_type": "code",
   "execution_count": 111,
   "metadata": {},
   "outputs": [],
   "source": [
    "sql_command = \"\"\"\n",
    "INSERT INTO parents (parent, child)\n",
    " VALUES (\"abraham\", \"barack\") UNION\n",
    " VALUES (\"abraham\", \"clinton\") UNION\n",
    " VALUES (\"delano\", \"herbert\") UNION\n",
    " VALUES (\"fillmore\", \"abraham\") UNION\n",
    " VALUES (\"fillmore\", \"delano\") UNION\n",
    " VALUES (\"fillmore\", \"grover\") UNION\n",
    " VALUES (\"eisenhower\", \"fillmore\");\n",
    " \"\"\""
   ]
  },
  {
   "cell_type": "code",
   "execution_count": 112,
   "metadata": {},
   "outputs": [
    {
     "data": {
      "text/plain": [
       "<sqlite3.Cursor at 0x1f26aed99d0>"
      ]
     },
     "execution_count": 112,
     "metadata": {},
     "output_type": "execute_result"
    }
   ],
   "source": [
    "cursor.execute(sql_command)"
   ]
  },
  {
   "cell_type": "code",
   "execution_count": 113,
   "metadata": {},
   "outputs": [],
   "source": [
    "connection.commit() \n",
    "\n",
    "connection.close()"
   ]
  },
  {
   "cell_type": "code",
   "execution_count": 114,
   "metadata": {},
   "outputs": [],
   "source": [
    "connection = sqlite3.connect('parents.db')\n",
    "\n",
    "cursor = connection.cursor()"
   ]
  },
  {
   "cell_type": "code",
   "execution_count": 115,
   "metadata": {},
   "outputs": [
    {
     "data": {
      "text/html": [
       "<div>\n",
       "<style>\n",
       "    .dataframe thead tr:only-child th {\n",
       "        text-align: right;\n",
       "    }\n",
       "\n",
       "    .dataframe thead th {\n",
       "        text-align: left;\n",
       "    }\n",
       "\n",
       "    .dataframe tbody tr th {\n",
       "        vertical-align: top;\n",
       "    }\n",
       "</style>\n",
       "<table border=\"1\" class=\"dataframe\">\n",
       "  <thead>\n",
       "    <tr style=\"text-align: right;\">\n",
       "      <th></th>\n",
       "      <th>parent</th>\n",
       "      <th>child</th>\n",
       "    </tr>\n",
       "  </thead>\n",
       "  <tbody>\n",
       "    <tr>\n",
       "      <th>0</th>\n",
       "      <td>abraham</td>\n",
       "      <td>barack</td>\n",
       "    </tr>\n",
       "    <tr>\n",
       "      <th>1</th>\n",
       "      <td>abraham</td>\n",
       "      <td>clinton</td>\n",
       "    </tr>\n",
       "    <tr>\n",
       "      <th>2</th>\n",
       "      <td>delano</td>\n",
       "      <td>herbert</td>\n",
       "    </tr>\n",
       "    <tr>\n",
       "      <th>3</th>\n",
       "      <td>eisenhower</td>\n",
       "      <td>fillmore</td>\n",
       "    </tr>\n",
       "    <tr>\n",
       "      <th>4</th>\n",
       "      <td>fillmore</td>\n",
       "      <td>abraham</td>\n",
       "    </tr>\n",
       "    <tr>\n",
       "      <th>5</th>\n",
       "      <td>fillmore</td>\n",
       "      <td>delano</td>\n",
       "    </tr>\n",
       "    <tr>\n",
       "      <th>6</th>\n",
       "      <td>fillmore</td>\n",
       "      <td>grover</td>\n",
       "    </tr>\n",
       "  </tbody>\n",
       "</table>\n",
       "</div>"
      ],
      "text/plain": [
       "       parent     child\n",
       "0     abraham    barack\n",
       "1     abraham   clinton\n",
       "2      delano   herbert\n",
       "3  eisenhower  fillmore\n",
       "4    fillmore   abraham\n",
       "5    fillmore    delano\n",
       "6    fillmore    grover"
      ]
     },
     "execution_count": 115,
     "metadata": {},
     "output_type": "execute_result"
    }
   ],
   "source": [
    "a = pd.read_sql_query('SELECT * FROM parents',con = connection)\n",
    "a"
   ]
  },
  {
   "cell_type": "code",
   "execution_count": 116,
   "metadata": {},
   "outputs": [
    {
     "data": {
      "text/html": [
       "<div>\n",
       "<style>\n",
       "    .dataframe thead tr:only-child th {\n",
       "        text-align: right;\n",
       "    }\n",
       "\n",
       "    .dataframe thead th {\n",
       "        text-align: left;\n",
       "    }\n",
       "\n",
       "    .dataframe tbody tr th {\n",
       "        vertical-align: top;\n",
       "    }\n",
       "</style>\n",
       "<table border=\"1\" class=\"dataframe\">\n",
       "  <thead>\n",
       "    <tr style=\"text-align: right;\">\n",
       "      <th></th>\n",
       "      <th>parent</th>\n",
       "      <th>child</th>\n",
       "    </tr>\n",
       "  </thead>\n",
       "  <tbody>\n",
       "    <tr>\n",
       "      <th>0</th>\n",
       "      <td>abraham</td>\n",
       "      <td>barack</td>\n",
       "    </tr>\n",
       "    <tr>\n",
       "      <th>1</th>\n",
       "      <td>abraham</td>\n",
       "      <td>clinton</td>\n",
       "    </tr>\n",
       "  </tbody>\n",
       "</table>\n",
       "</div>"
      ],
      "text/plain": [
       "    parent    child\n",
       "0  abraham   barack\n",
       "1  abraham  clinton"
      ]
     },
     "execution_count": 116,
     "metadata": {},
     "output_type": "execute_result"
    }
   ],
   "source": [
    "b = pd.read_sql_query('SELECT * FROM parents WHERE parent=\"abraham\"',con = connection)\n",
    "b"
   ]
  },
  {
   "cell_type": "code",
   "execution_count": 117,
   "metadata": {},
   "outputs": [
    {
     "data": {
      "text/html": [
       "<div>\n",
       "<style>\n",
       "    .dataframe thead tr:only-child th {\n",
       "        text-align: right;\n",
       "    }\n",
       "\n",
       "    .dataframe thead th {\n",
       "        text-align: left;\n",
       "    }\n",
       "\n",
       "    .dataframe tbody tr th {\n",
       "        vertical-align: top;\n",
       "    }\n",
       "</style>\n",
       "<table border=\"1\" class=\"dataframe\">\n",
       "  <thead>\n",
       "    <tr style=\"text-align: right;\">\n",
       "      <th></th>\n",
       "      <th>parent</th>\n",
       "      <th>child</th>\n",
       "    </tr>\n",
       "  </thead>\n",
       "  <tbody>\n",
       "    <tr>\n",
       "      <th>0</th>\n",
       "      <td>delano</td>\n",
       "      <td>herbert</td>\n",
       "    </tr>\n",
       "    <tr>\n",
       "      <th>1</th>\n",
       "      <td>eisenhower</td>\n",
       "      <td>fillmore</td>\n",
       "    </tr>\n",
       "    <tr>\n",
       "      <th>2</th>\n",
       "      <td>fillmore</td>\n",
       "      <td>delano</td>\n",
       "    </tr>\n",
       "    <tr>\n",
       "      <th>3</th>\n",
       "      <td>fillmore</td>\n",
       "      <td>grover</td>\n",
       "    </tr>\n",
       "  </tbody>\n",
       "</table>\n",
       "</div>"
      ],
      "text/plain": [
       "       parent     child\n",
       "0      delano   herbert\n",
       "1  eisenhower  fillmore\n",
       "2    fillmore    delano\n",
       "3    fillmore    grover"
      ]
     },
     "execution_count": 117,
     "metadata": {},
     "output_type": "execute_result"
    }
   ],
   "source": [
    "c = pd.read_sql_query('SELECT * FROM parents WHERE child LIKE \"%e%\"',con = connection)\n",
    "c"
   ]
  },
  {
   "cell_type": "code",
   "execution_count": 118,
   "metadata": {},
   "outputs": [
    {
     "data": {
      "text/html": [
       "<div>\n",
       "<style>\n",
       "    .dataframe thead tr:only-child th {\n",
       "        text-align: right;\n",
       "    }\n",
       "\n",
       "    .dataframe thead th {\n",
       "        text-align: left;\n",
       "    }\n",
       "\n",
       "    .dataframe tbody tr th {\n",
       "        vertical-align: top;\n",
       "    }\n",
       "</style>\n",
       "<table border=\"1\" class=\"dataframe\">\n",
       "  <thead>\n",
       "    <tr style=\"text-align: right;\">\n",
       "      <th></th>\n",
       "      <th>parent</th>\n",
       "    </tr>\n",
       "  </thead>\n",
       "  <tbody>\n",
       "    <tr>\n",
       "      <th>0</th>\n",
       "      <td>fillmore</td>\n",
       "    </tr>\n",
       "    <tr>\n",
       "      <th>1</th>\n",
       "      <td>eisenhower</td>\n",
       "    </tr>\n",
       "    <tr>\n",
       "      <th>2</th>\n",
       "      <td>delano</td>\n",
       "    </tr>\n",
       "    <tr>\n",
       "      <th>3</th>\n",
       "      <td>abraham</td>\n",
       "    </tr>\n",
       "  </tbody>\n",
       "</table>\n",
       "</div>"
      ],
      "text/plain": [
       "       parent\n",
       "0    fillmore\n",
       "1  eisenhower\n",
       "2      delano\n",
       "3     abraham"
      ]
     },
     "execution_count": 118,
     "metadata": {},
     "output_type": "execute_result"
    }
   ],
   "source": [
    "d = pd.read_sql_query('SELECT DISTINCT parent FROM parents ORDER BY parent DESC',con = connection)\n",
    "d"
   ]
  },
  {
   "cell_type": "code",
   "execution_count": 119,
   "metadata": {},
   "outputs": [
    {
     "data": {
      "text/html": [
       "<div>\n",
       "<style>\n",
       "    .dataframe thead tr:only-child th {\n",
       "        text-align: right;\n",
       "    }\n",
       "\n",
       "    .dataframe thead th {\n",
       "        text-align: left;\n",
       "    }\n",
       "\n",
       "    .dataframe tbody tr th {\n",
       "        vertical-align: top;\n",
       "    }\n",
       "</style>\n",
       "<table border=\"1\" class=\"dataframe\">\n",
       "  <thead>\n",
       "    <tr style=\"text-align: right;\">\n",
       "      <th></th>\n",
       "      <th>child</th>\n",
       "    </tr>\n",
       "  </thead>\n",
       "  <tbody>\n",
       "    <tr>\n",
       "      <th>0</th>\n",
       "      <td>barack</td>\n",
       "    </tr>\n",
       "    <tr>\n",
       "      <th>1</th>\n",
       "      <td>clinton</td>\n",
       "    </tr>\n",
       "    <tr>\n",
       "      <th>2</th>\n",
       "      <td>abraham</td>\n",
       "    </tr>\n",
       "    <tr>\n",
       "      <th>3</th>\n",
       "      <td>delano</td>\n",
       "    </tr>\n",
       "    <tr>\n",
       "      <th>4</th>\n",
       "      <td>grover</td>\n",
       "    </tr>\n",
       "  </tbody>\n",
       "</table>\n",
       "</div>"
      ],
      "text/plain": [
       "     child\n",
       "0   barack\n",
       "1  clinton\n",
       "2  abraham\n",
       "3   delano\n",
       "4   grover"
      ]
     },
     "execution_count": 119,
     "metadata": {},
     "output_type": "execute_result"
    }
   ],
   "source": [
    "e = pd.read_sql_query('SELECT * FROM parents',con = connection)\n",
    "# e = pd.read_sql_query('')\n",
    "sql_command = \"\"\"\n",
    "SELECT parent, COUNT(*) \n",
    "FROM parents\n",
    "GROUP BY parent\n",
    "HAVING COUNT(*) > 1\n",
    "\"\"\"\n",
    "e = pd.read_sql_query(sql_command, con = connection)\n",
    "\n",
    "# f = cursor.execute(sql_command).fetchall()\n",
    "e\n",
    "\n",
    "sql_command = \"\"\"\n",
    "SELECT child \n",
    "FROM parents\n",
    "WHERE parent=\"abraham\"\n",
    "OR\n",
    "parent = \"fillmore\"\n",
    "\"\"\"\n",
    "\n",
    "f = pd.read_sql_query(sql_command, con = connection)\n",
    "\n",
    "f\n"
   ]
  },
  {
   "cell_type": "code",
   "execution_count": 120,
   "metadata": {},
   "outputs": [
    {
     "data": {
      "text/plain": [
       "<sqlite3.Cursor at 0x1f26ade77a0>"
      ]
     },
     "execution_count": 120,
     "metadata": {},
     "output_type": "execute_result"
    }
   ],
   "source": [
    "cursor.execute(\"DROP TABLE IF EXISTS dogs;\")\n",
    "\n",
    "sql_command = \"\"\"\n",
    "CREATE TABLE dogs AS\n",
    " SELECT \"abraham\" AS name, \"long\" AS fur UNION\n",
    " SELECT \"barack\", \"short\" UNION\n",
    " SELECT \"clinton\", \"long\" UNION\n",
    " SELECT \"delano\", \"long\" UNION\n",
    " SELECT \"eisenhower\", \"short\" UNION\n",
    " SELECT \"fillmore\", \"curly\" UNION\n",
    " SELECT \"grover\", \"short\" UNION\n",
    " SELECT \"herbert\", \"curly\";\n",
    " \"\"\"\n",
    "\n",
    "cursor.execute(sql_command)"
   ]
  },
  {
   "cell_type": "code",
   "execution_count": 121,
   "metadata": {},
   "outputs": [
    {
     "data": {
      "text/html": [
       "<div>\n",
       "<style>\n",
       "    .dataframe thead tr:only-child th {\n",
       "        text-align: right;\n",
       "    }\n",
       "\n",
       "    .dataframe thead th {\n",
       "        text-align: left;\n",
       "    }\n",
       "\n",
       "    .dataframe tbody tr th {\n",
       "        vertical-align: top;\n",
       "    }\n",
       "</style>\n",
       "<table border=\"1\" class=\"dataframe\">\n",
       "  <thead>\n",
       "    <tr style=\"text-align: right;\">\n",
       "      <th></th>\n",
       "      <th>name</th>\n",
       "      <th>fur</th>\n",
       "      <th>COUNT(fur)</th>\n",
       "    </tr>\n",
       "  </thead>\n",
       "  <tbody>\n",
       "    <tr>\n",
       "      <th>0</th>\n",
       "      <td>grover</td>\n",
       "      <td>short</td>\n",
       "      <td>3</td>\n",
       "    </tr>\n",
       "  </tbody>\n",
       "</table>\n",
       "</div>"
      ],
      "text/plain": [
       "     name    fur  COUNT(fur)\n",
       "0  grover  short           3"
      ]
     },
     "execution_count": 121,
     "metadata": {},
     "output_type": "execute_result"
    }
   ],
   "source": [
    "g = pd.read_sql_query('SELECT *, COUNT(fur) FROM dogs WHERE fur=\"short\"', con = connection)\n",
    "g"
   ]
  },
  {
   "cell_type": "code",
   "execution_count": 122,
   "metadata": {},
   "outputs": [
    {
     "data": {
      "text/html": [
       "<div>\n",
       "<style>\n",
       "    .dataframe thead tr:only-child th {\n",
       "        text-align: right;\n",
       "    }\n",
       "\n",
       "    .dataframe thead th {\n",
       "        text-align: left;\n",
       "    }\n",
       "\n",
       "    .dataframe tbody tr th {\n",
       "        vertical-align: top;\n",
       "    }\n",
       "</style>\n",
       "<table border=\"1\" class=\"dataframe\">\n",
       "  <thead>\n",
       "    <tr style=\"text-align: right;\">\n",
       "      <th></th>\n",
       "      <th>parent</th>\n",
       "    </tr>\n",
       "  </thead>\n",
       "  <tbody>\n",
       "    <tr>\n",
       "      <th>0</th>\n",
       "      <td>eisenhower</td>\n",
       "    </tr>\n",
       "    <tr>\n",
       "      <th>1</th>\n",
       "      <td>delano</td>\n",
       "    </tr>\n",
       "  </tbody>\n",
       "</table>\n",
       "</div>"
      ],
      "text/plain": [
       "       parent\n",
       "0  eisenhower\n",
       "1      delano"
      ]
     },
     "execution_count": 122,
     "metadata": {},
     "output_type": "execute_result"
    }
   ],
   "source": [
    "sql_command = \"\"\"\n",
    "SELECT parent\n",
    "FROM dogs\n",
    "INNER JOIN parents ON dogs.name = parents.child\n",
    "WHERE fur=\"curly\";\n",
    "\"\"\"\n",
    "\n",
    "h = pd.read_sql_query(sql_command, con=connection)\n",
    "h\n",
    "\n"
   ]
  },
  {
   "cell_type": "code",
   "execution_count": 131,
   "metadata": {},
   "outputs": [
    {
     "data": {
      "text/html": [
       "<div>\n",
       "<style>\n",
       "    .dataframe thead tr:only-child th {\n",
       "        text-align: right;\n",
       "    }\n",
       "\n",
       "    .dataframe thead th {\n",
       "        text-align: left;\n",
       "    }\n",
       "\n",
       "    .dataframe tbody tr th {\n",
       "        vertical-align: top;\n",
       "    }\n",
       "</style>\n",
       "<table border=\"1\" class=\"dataframe\">\n",
       "  <thead>\n",
       "    <tr style=\"text-align: right;\">\n",
       "      <th></th>\n",
       "      <th>parent</th>\n",
       "      <th>child</th>\n",
       "    </tr>\n",
       "  </thead>\n",
       "  <tbody>\n",
       "    <tr>\n",
       "      <th>0</th>\n",
       "      <td>delano</td>\n",
       "      <td>herbert</td>\n",
       "    </tr>\n",
       "    <tr>\n",
       "      <th>1</th>\n",
       "      <td>fillmore</td>\n",
       "      <td>delano</td>\n",
       "    </tr>\n",
       "    <tr>\n",
       "      <th>2</th>\n",
       "      <td>fillmore</td>\n",
       "      <td>grover</td>\n",
       "    </tr>\n",
       "  </tbody>\n",
       "</table>\n",
       "</div>"
      ],
      "text/plain": [
       "     parent    child\n",
       "0    delano  herbert\n",
       "1  fillmore   delano\n",
       "2  fillmore   grover"
      ]
     },
     "execution_count": 131,
     "metadata": {},
     "output_type": "execute_result"
    }
   ],
   "source": [
    "sql_command = \"\"\"\n",
    "SELECT parent, child\n",
    "FROM dogs\n",
    "INNER JOIN parents ON dogs.name = parents.child\n",
    "GROUP BY fur;\n",
    "\"\"\"\n",
    "# WHERE fur=\"curly\";\n",
    "i = pd.read_sql_query(sql_command, con=connection)\n",
    "i\n",
    "\n"
   ]
  },
  {
   "cell_type": "markdown",
   "metadata": {},
   "source": [
    "# Part 3.3"
   ]
  },
  {
   "cell_type": "code",
   "execution_count": 134,
   "metadata": {},
   "outputs": [
    {
     "data": {
      "text/plain": [
       "<sqlite3.Cursor at 0x1f26ade77a0>"
      ]
     },
     "execution_count": 134,
     "metadata": {},
     "output_type": "execute_result"
    }
   ],
   "source": [
    "cursor.execute(\"DROP TABLE IF EXISTS animals;\")\n",
    "\n",
    "sql_command = \"\"\"\n",
    "create table animals as\n",
    "select \"dog\" as kind, 4 as legs, 20 as weight union\n",
    "select \"cat\" , 4 , 10 union\n",
    "select \"ferret\" , 4 , 10 union\n",
    "select \"parrot\" , 2 , 6 union\n",
    "select \"penguin\" , 2 , 10 union\n",
    "select \"t-rex\" , 2 , 12000;\n",
    "\"\"\"\n",
    "\n",
    "j = cursor.execute(sql_command)\n",
    "j"
   ]
  },
  {
   "cell_type": "code",
   "execution_count": 136,
   "metadata": {},
   "outputs": [
    {
     "data": {
      "text/html": [
       "<div>\n",
       "<style>\n",
       "    .dataframe thead tr:only-child th {\n",
       "        text-align: right;\n",
       "    }\n",
       "\n",
       "    .dataframe thead th {\n",
       "        text-align: left;\n",
       "    }\n",
       "\n",
       "    .dataframe tbody tr th {\n",
       "        vertical-align: top;\n",
       "    }\n",
       "</style>\n",
       "<table border=\"1\" class=\"dataframe\">\n",
       "  <thead>\n",
       "    <tr style=\"text-align: right;\">\n",
       "      <th></th>\n",
       "      <th>kind</th>\n",
       "      <th>legs</th>\n",
       "      <th>weight</th>\n",
       "    </tr>\n",
       "  </thead>\n",
       "  <tbody>\n",
       "    <tr>\n",
       "      <th>0</th>\n",
       "      <td>cat</td>\n",
       "      <td>4</td>\n",
       "      <td>10</td>\n",
       "    </tr>\n",
       "    <tr>\n",
       "      <th>1</th>\n",
       "      <td>dog</td>\n",
       "      <td>4</td>\n",
       "      <td>20</td>\n",
       "    </tr>\n",
       "    <tr>\n",
       "      <th>2</th>\n",
       "      <td>ferret</td>\n",
       "      <td>4</td>\n",
       "      <td>10</td>\n",
       "    </tr>\n",
       "    <tr>\n",
       "      <th>3</th>\n",
       "      <td>parrot</td>\n",
       "      <td>2</td>\n",
       "      <td>6</td>\n",
       "    </tr>\n",
       "    <tr>\n",
       "      <th>4</th>\n",
       "      <td>penguin</td>\n",
       "      <td>2</td>\n",
       "      <td>10</td>\n",
       "    </tr>\n",
       "    <tr>\n",
       "      <th>5</th>\n",
       "      <td>t-rex</td>\n",
       "      <td>2</td>\n",
       "      <td>12000</td>\n",
       "    </tr>\n",
       "  </tbody>\n",
       "</table>\n",
       "</div>"
      ],
      "text/plain": [
       "      kind  legs  weight\n",
       "0      cat     4      10\n",
       "1      dog     4      20\n",
       "2   ferret     4      10\n",
       "3   parrot     2       6\n",
       "4  penguin     2      10\n",
       "5    t-rex     2   12000"
      ]
     },
     "execution_count": 136,
     "metadata": {},
     "output_type": "execute_result"
    }
   ],
   "source": [
    "k = pd.read_sql_query('SELECT * FROM animals', con=connection)\n",
    "k"
   ]
  },
  {
   "cell_type": "code",
   "execution_count": 139,
   "metadata": {},
   "outputs": [
    {
     "data": {
      "text/html": [
       "<div>\n",
       "<style>\n",
       "    .dataframe thead tr:only-child th {\n",
       "        text-align: right;\n",
       "    }\n",
       "\n",
       "    .dataframe thead th {\n",
       "        text-align: left;\n",
       "    }\n",
       "\n",
       "    .dataframe tbody tr th {\n",
       "        vertical-align: top;\n",
       "    }\n",
       "</style>\n",
       "<table border=\"1\" class=\"dataframe\">\n",
       "  <thead>\n",
       "    <tr style=\"text-align: right;\">\n",
       "      <th></th>\n",
       "      <th>kind</th>\n",
       "      <th>legs</th>\n",
       "      <th>weight</th>\n",
       "      <th>MIN(weight)</th>\n",
       "    </tr>\n",
       "  </thead>\n",
       "  <tbody>\n",
       "    <tr>\n",
       "      <th>0</th>\n",
       "      <td>parrot</td>\n",
       "      <td>2</td>\n",
       "      <td>6</td>\n",
       "      <td>6</td>\n",
       "    </tr>\n",
       "  </tbody>\n",
       "</table>\n",
       "</div>"
      ],
      "text/plain": [
       "     kind  legs  weight  MIN(weight)\n",
       "0  parrot     2       6            6"
      ]
     },
     "execution_count": 139,
     "metadata": {},
     "output_type": "execute_result"
    }
   ],
   "source": [
    "sql_command = \"\"\"\n",
    "SELECT *, MIN(weight) FROM animals\n",
    "\"\"\"\n",
    "\n",
    "l = pd.read_sql_query(sql_command, con=connection)\n",
    "l"
   ]
  },
  {
   "cell_type": "code",
   "execution_count": 145,
   "metadata": {},
   "outputs": [
    {
     "data": {
      "text/html": [
       "<div>\n",
       "<style>\n",
       "    .dataframe thead tr:only-child th {\n",
       "        text-align: right;\n",
       "    }\n",
       "\n",
       "    .dataframe thead th {\n",
       "        text-align: left;\n",
       "    }\n",
       "\n",
       "    .dataframe tbody tr th {\n",
       "        vertical-align: top;\n",
       "    }\n",
       "</style>\n",
       "<table border=\"1\" class=\"dataframe\">\n",
       "  <thead>\n",
       "    <tr style=\"text-align: right;\">\n",
       "      <th></th>\n",
       "      <th>AVG(legs)</th>\n",
       "      <th>AVG(weight)</th>\n",
       "    </tr>\n",
       "  </thead>\n",
       "  <tbody>\n",
       "    <tr>\n",
       "      <th>0</th>\n",
       "      <td>3.0</td>\n",
       "      <td>2009.333333</td>\n",
       "    </tr>\n",
       "  </tbody>\n",
       "</table>\n",
       "</div>"
      ],
      "text/plain": [
       "   AVG(legs)  AVG(weight)\n",
       "0        3.0  2009.333333"
      ]
     },
     "execution_count": 145,
     "metadata": {},
     "output_type": "execute_result"
    }
   ],
   "source": [
    "sql_command = \"\"\"\n",
    "SELECT AVG(legs), AVG(weight) FROM animals\n",
    "\"\"\"\n",
    "\n",
    "m = pd.read_sql_query(sql_command, con=connection)\n",
    "m"
   ]
  },
  {
   "cell_type": "code",
   "execution_count": 146,
   "metadata": {},
   "outputs": [
    {
     "data": {
      "text/html": [
       "<div>\n",
       "<style>\n",
       "    .dataframe thead tr:only-child th {\n",
       "        text-align: right;\n",
       "    }\n",
       "\n",
       "    .dataframe thead th {\n",
       "        text-align: left;\n",
       "    }\n",
       "\n",
       "    .dataframe tbody tr th {\n",
       "        vertical-align: top;\n",
       "    }\n",
       "</style>\n",
       "<table border=\"1\" class=\"dataframe\">\n",
       "  <thead>\n",
       "    <tr style=\"text-align: right;\">\n",
       "      <th></th>\n",
       "      <th>kind</th>\n",
       "      <th>legs</th>\n",
       "      <th>weight</th>\n",
       "    </tr>\n",
       "  </thead>\n",
       "  <tbody>\n",
       "    <tr>\n",
       "      <th>0</th>\n",
       "      <td>cat</td>\n",
       "      <td>4</td>\n",
       "      <td>10</td>\n",
       "    </tr>\n",
       "    <tr>\n",
       "      <th>1</th>\n",
       "      <td>ferret</td>\n",
       "      <td>4</td>\n",
       "      <td>10</td>\n",
       "    </tr>\n",
       "  </tbody>\n",
       "</table>\n",
       "</div>"
      ],
      "text/plain": [
       "     kind  legs  weight\n",
       "0     cat     4      10\n",
       "1  ferret     4      10"
      ]
     },
     "execution_count": 146,
     "metadata": {},
     "output_type": "execute_result"
    }
   ],
   "source": [
    "sql_command = \"\"\"\n",
    "SELECT * FROM animals\n",
    "WHERE legs > 2 AND weight < 20\n",
    "\"\"\"\n",
    "\n",
    "n = pd.read_sql_query(sql_command, con=connection)\n",
    "n"
   ]
  },
  {
   "cell_type": "code",
   "execution_count": 148,
   "metadata": {},
   "outputs": [
    {
     "data": {
      "text/html": [
       "<div>\n",
       "<style>\n",
       "    .dataframe thead tr:only-child th {\n",
       "        text-align: right;\n",
       "    }\n",
       "\n",
       "    .dataframe thead th {\n",
       "        text-align: left;\n",
       "    }\n",
       "\n",
       "    .dataframe tbody tr th {\n",
       "        vertical-align: top;\n",
       "    }\n",
       "</style>\n",
       "<table border=\"1\" class=\"dataframe\">\n",
       "  <thead>\n",
       "    <tr style=\"text-align: right;\">\n",
       "      <th></th>\n",
       "      <th>AVG(weight)</th>\n",
       "      <th>legs</th>\n",
       "    </tr>\n",
       "  </thead>\n",
       "  <tbody>\n",
       "    <tr>\n",
       "      <th>0</th>\n",
       "      <td>4005.333333</td>\n",
       "      <td>2</td>\n",
       "    </tr>\n",
       "    <tr>\n",
       "      <th>1</th>\n",
       "      <td>13.333333</td>\n",
       "      <td>4</td>\n",
       "    </tr>\n",
       "  </tbody>\n",
       "</table>\n",
       "</div>"
      ],
      "text/plain": [
       "   AVG(weight)  legs\n",
       "0  4005.333333     2\n",
       "1    13.333333     4"
      ]
     },
     "execution_count": 148,
     "metadata": {},
     "output_type": "execute_result"
    }
   ],
   "source": [
    "sql_command = \"\"\"\n",
    "SELECT AVG(weight), legs FROM animals\n",
    "GROUP BY legs\n",
    "\"\"\"\n",
    "\n",
    "o = pd.read_sql_query(sql_command, con=connection)\n",
    "o"
   ]
  },
  {
   "cell_type": "code",
   "execution_count": null,
   "metadata": {},
   "outputs": [],
   "source": []
  }
 ],
 "metadata": {
  "kernelspec": {
   "display_name": "Python 3",
   "language": "python",
   "name": "python3"
  },
  "language_info": {
   "codemirror_mode": {
    "name": "ipython",
    "version": 3
   },
   "file_extension": ".py",
   "mimetype": "text/x-python",
   "name": "python",
   "nbconvert_exporter": "python",
   "pygments_lexer": "ipython3",
   "version": "3.6.3"
  }
 },
 "nbformat": 4,
 "nbformat_minor": 2
}
