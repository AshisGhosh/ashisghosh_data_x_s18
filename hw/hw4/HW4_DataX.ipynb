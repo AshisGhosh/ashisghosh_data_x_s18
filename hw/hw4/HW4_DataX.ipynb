{
 "cells": [
  {
   "cell_type": "markdown",
   "metadata": {},
   "source": [
    "# HW4"
   ]
  },
  {
   "cell_type": "markdown",
   "metadata": {},
   "source": [
    "# Part 1.1"
   ]
  },
  {
   "cell_type": "code",
   "execution_count": 370,
   "metadata": {},
   "outputs": [],
   "source": [
    "import numpy as np\n",
    "import pandas as pd\n",
    "\n",
    "hasJob = [1,1,1,0,0,0,1,1]\n",
    "hasFamily = [1,1,0,1,0,1,0,0]\n",
    "isAbove30Years = [1,1,1,0,1,0,1,1]\n",
    "defaulter = [0,0,0,0,1,1,1,1]\n",
    "\n",
    "df = pd.DataFrame(data={'HasJob':hasJob, 'HasFamily': hasFamily, 'IsAbove30Years': isAbove30Years, 'Defaulter': defaulter})"
   ]
  },
  {
   "cell_type": "code",
   "execution_count": 371,
   "metadata": {},
   "outputs": [],
   "source": [
    "columns = df.columns.tolist()\n",
    "columns = columns[::-1]\n",
    "df = df[columns]\n"
   ]
  },
  {
   "cell_type": "code",
   "execution_count": 372,
   "metadata": {},
   "outputs": [
    {
     "data": {
      "text/html": [
       "<div>\n",
       "<style>\n",
       "    .dataframe thead tr:only-child th {\n",
       "        text-align: right;\n",
       "    }\n",
       "\n",
       "    .dataframe thead th {\n",
       "        text-align: left;\n",
       "    }\n",
       "\n",
       "    .dataframe tbody tr th {\n",
       "        vertical-align: top;\n",
       "    }\n",
       "</style>\n",
       "<table border=\"1\" class=\"dataframe\">\n",
       "  <thead>\n",
       "    <tr style=\"text-align: right;\">\n",
       "      <th></th>\n",
       "      <th>IsAbove30Years</th>\n",
       "      <th>HasJob</th>\n",
       "      <th>HasFamily</th>\n",
       "      <th>Defaulter</th>\n",
       "    </tr>\n",
       "  </thead>\n",
       "  <tbody>\n",
       "    <tr>\n",
       "      <th>0</th>\n",
       "      <td>1</td>\n",
       "      <td>1</td>\n",
       "      <td>1</td>\n",
       "      <td>0</td>\n",
       "    </tr>\n",
       "    <tr>\n",
       "      <th>1</th>\n",
       "      <td>1</td>\n",
       "      <td>1</td>\n",
       "      <td>1</td>\n",
       "      <td>0</td>\n",
       "    </tr>\n",
       "    <tr>\n",
       "      <th>2</th>\n",
       "      <td>1</td>\n",
       "      <td>1</td>\n",
       "      <td>0</td>\n",
       "      <td>0</td>\n",
       "    </tr>\n",
       "    <tr>\n",
       "      <th>3</th>\n",
       "      <td>0</td>\n",
       "      <td>0</td>\n",
       "      <td>1</td>\n",
       "      <td>0</td>\n",
       "    </tr>\n",
       "    <tr>\n",
       "      <th>4</th>\n",
       "      <td>1</td>\n",
       "      <td>0</td>\n",
       "      <td>0</td>\n",
       "      <td>1</td>\n",
       "    </tr>\n",
       "    <tr>\n",
       "      <th>5</th>\n",
       "      <td>0</td>\n",
       "      <td>0</td>\n",
       "      <td>1</td>\n",
       "      <td>1</td>\n",
       "    </tr>\n",
       "    <tr>\n",
       "      <th>6</th>\n",
       "      <td>1</td>\n",
       "      <td>1</td>\n",
       "      <td>0</td>\n",
       "      <td>1</td>\n",
       "    </tr>\n",
       "    <tr>\n",
       "      <th>7</th>\n",
       "      <td>1</td>\n",
       "      <td>1</td>\n",
       "      <td>0</td>\n",
       "      <td>1</td>\n",
       "    </tr>\n",
       "  </tbody>\n",
       "</table>\n",
       "</div>"
      ],
      "text/plain": [
       "   IsAbove30Years  HasJob  HasFamily  Defaulter\n",
       "0               1       1          1          0\n",
       "1               1       1          1          0\n",
       "2               1       1          0          0\n",
       "3               0       0          1          0\n",
       "4               1       0          0          1\n",
       "5               0       0          1          1\n",
       "6               1       1          0          1\n",
       "7               1       1          0          1"
      ]
     },
     "execution_count": 372,
     "metadata": {},
     "output_type": "execute_result"
    }
   ],
   "source": [
    "df"
   ]
  },
  {
   "cell_type": "code",
   "execution_count": 373,
   "metadata": {},
   "outputs": [],
   "source": [
    "w_default = df['Defaulter'].sum()/df.shape[0]\n",
    "w_hasFam = df['HasFamily'].sum()/df.shape[0]\n",
    "w_hasJob = df['HasJob'].sum()/df.shape[0]\n",
    "w_above30 = df['IsAbove30Years'].sum()/df.shape[0]"
   ]
  },
  {
   "cell_type": "code",
   "execution_count": 374,
   "metadata": {},
   "outputs": [
    {
     "name": "stdout",
     "output_type": "stream",
     "text": [
      "0.5 0.5 0.625 0.75\n"
     ]
    }
   ],
   "source": [
    "print(w_default, w_hasFam, w_hasJob, w_above30)"
   ]
  },
  {
   "cell_type": "code",
   "execution_count": 375,
   "metadata": {},
   "outputs": [
    {
     "name": "stdout",
     "output_type": "stream",
     "text": [
      "0.5 0.4 0.25\n",
      "0.5 0.6666666666666666 0.75\n"
     ]
    },
    {
     "name": "stderr",
     "output_type": "stream",
     "text": [
      "C:\\Users\\Ashis\\Anaconda3\\envs\\data-x\\lib\\site-packages\\ipykernel_launcher.py:1: UserWarning: Boolean Series key will be reindexed to match DataFrame index.\n",
      "  \"\"\"Entry point for launching an IPython kernel.\n",
      "C:\\Users\\Ashis\\Anaconda3\\envs\\data-x\\lib\\site-packages\\ipykernel_launcher.py:2: UserWarning: Boolean Series key will be reindexed to match DataFrame index.\n",
      "  \n",
      "C:\\Users\\Ashis\\Anaconda3\\envs\\data-x\\lib\\site-packages\\ipykernel_launcher.py:3: UserWarning: Boolean Series key will be reindexed to match DataFrame index.\n",
      "  This is separate from the ipykernel package so we can avoid doing imports until\n",
      "C:\\Users\\Ashis\\Anaconda3\\envs\\data-x\\lib\\site-packages\\ipykernel_launcher.py:5: UserWarning: Boolean Series key will be reindexed to match DataFrame index.\n",
      "  \"\"\"\n",
      "C:\\Users\\Ashis\\Anaconda3\\envs\\data-x\\lib\\site-packages\\ipykernel_launcher.py:6: UserWarning: Boolean Series key will be reindexed to match DataFrame index.\n",
      "  \n",
      "C:\\Users\\Ashis\\Anaconda3\\envs\\data-x\\lib\\site-packages\\ipykernel_launcher.py:7: UserWarning: Boolean Series key will be reindexed to match DataFrame index.\n",
      "  import sys\n"
     ]
    }
   ],
   "source": [
    "p_above30 = df[df[\"IsAbove30Years\"]==1][df[\"Defaulter\"]==1].shape[0]/df[df[\"IsAbove30Years\"]==1].shape[0]\n",
    "p_hasJob = df[df[\"HasJob\"]==1][df[\"Defaulter\"]==1].shape[0]/df[df[\"HasJob\"]==1].shape[0]\n",
    "p_hasFam = df[df[\"HasFamily\"]==1][df[\"Defaulter\"]==1].shape[0]/df[df[\"HasFamily\"]==1].shape[0]\n",
    "\n",
    "p_notAbove30 = df[df[\"IsAbove30Years\"]==0][df[\"Defaulter\"]==1].shape[0]/df[df[\"IsAbove30Years\"]==0].shape[0]\n",
    "p_notHasJob = df[df[\"HasJob\"]==0][df[\"Defaulter\"]==1].shape[0]/df[df[\"HasJob\"]==0].shape[0]\n",
    "p_notHasFam = df[df[\"HasFamily\"]==0][df[\"Defaulter\"]==1].shape[0]/df[df[\"HasFamily\"]==0].shape[0]\n",
    "\n",
    "print  (p_above30, p_hasJob, p_hasFam)\n",
    "print (p_notAbove30, p_notHasJob, p_notHasFam)"
   ]
  },
  {
   "cell_type": "code",
   "execution_count": 376,
   "metadata": {},
   "outputs": [],
   "source": [
    "# Entropy Calculations\n",
    "p_above30_ent = (p_above30*np.log2(1/p_above30) + (1-p_above30)*np.log2(1/(1-p_above30)))* w_above30 \\\n",
    "                        + (p_notAbove30*np.log2(1/p_notAbove30) + (1-p_notAbove30)*np.log2(1/(1-p_notAbove30)))*(1-w_above30)\n",
    "p_hasJob_ent = (p_hasJob*np.log2(1/p_hasJob) + (1-p_hasJob)*np.log2(1/(1-p_hasJob)))* w_hasJob \\\n",
    "                        + (p_notHasJob*np.log2(1/p_notHasJob) + (1-p_notHasJob)*np.log2(1/(1-p_notHasJob)))*(1-w_hasJob)\n",
    "p_hasFam_ent = (p_hasFam*np.log2(1/p_hasFam) + (1-p_hasFam)*np.log2(1/(1-p_hasFam)))* w_hasFam \\\n",
    "                        + (p_notHasFam*np.log2(1/p_notHasFam) + (1-p_notHasFam)*np.log2(1/(1-p_notHasFam)))*(1-w_hasFam)"
   ]
  },
  {
   "cell_type": "code",
   "execution_count": 377,
   "metadata": {},
   "outputs": [
    {
     "name": "stdout",
     "output_type": "stream",
     "text": [
      "Entropy Values:\n",
      "Above 30:  1.0  HasJob:  0.951205059305  HasFam:  0.811278124459\n",
      "Information Gained:\n",
      "Above 30:  0.0  HasJob:  0.0487949406954  HasFam:  0.188721875541\n"
     ]
    }
   ],
   "source": [
    "print(\"Entropy Values:\")\n",
    "print(\"Above 30: \", p_above30_ent,\" HasJob: \", p_hasJob_ent, \" HasFam: \",  p_hasFam_ent)\n",
    "\n",
    "print(\"Information Gained:\")\n",
    "print(\"Above 30: \", 1-p_above30_ent,\" HasJob: \", 1-p_hasJob_ent, \" HasFam: \",  1-p_hasFam_ent)"
   ]
  },
  {
   "cell_type": "markdown",
   "metadata": {},
   "source": [
    "# Conclusion\n",
    "\n",
    "Most information is gained from the HasFamily variable, hence that should be used for the first split. "
   ]
  },
  {
   "cell_type": "markdown",
   "metadata": {},
   "source": [
    "# Part 1.2"
   ]
  },
  {
   "cell_type": "code",
   "execution_count": 378,
   "metadata": {},
   "outputs": [],
   "source": [
    "A = 0.7\n",
    "B = 0.2\n",
    "C = 0.1"
   ]
  },
  {
   "cell_type": "code",
   "execution_count": 379,
   "metadata": {},
   "outputs": [],
   "source": [
    "A_ent = np.log2(1/A)\n",
    "B_ent = np.log2(1/B)\n",
    "C_ent = np.log2(1/C)"
   ]
  },
  {
   "cell_type": "code",
   "execution_count": 380,
   "metadata": {},
   "outputs": [],
   "source": [
    "S_ent = A*np.log2(1/A) + B*np.log2(1/B) + C*np.log2(1/C)"
   ]
  },
  {
   "cell_type": "code",
   "execution_count": 381,
   "metadata": {},
   "outputs": [
    {
     "data": {
      "text/plain": [
       "1.1567796494470395"
      ]
     },
     "execution_count": 381,
     "metadata": {},
     "output_type": "execute_result"
    }
   ],
   "source": [
    "S_ent"
   ]
  },
  {
   "cell_type": "markdown",
   "metadata": {},
   "source": [
    "# Conclusion\n",
    "S has an entropy of 1.1568, meaning it should not be compressed into any number of bits less than that as it will be at risk of losing information. "
   ]
  },
  {
   "cell_type": "markdown",
   "metadata": {},
   "source": [
    "# Part 2: Natural Language Processing"
   ]
  },
  {
   "cell_type": "markdown",
   "metadata": {},
   "source": [
    "# Part 2.1\n",
    "\n",
    "A bag of words model collects each of the words independently and effectively just creates a \"bag of words\" - an unordered list of words. This might be useful to see how often certain keywords or terms appear. \n",
    "\n",
    "For a word2vec model, the position of each word relative to its surrounding words is coded in some fashion. This allows for higher quality information. By knowing that two words are next to each other, the meaning can change - i.e. “good” vs. “not good” and also “running” and “running away”. This is very important for semantic analysis. Furthermore, this becomes more useful as we consider a longer string of words even building up to a sentence or paragraph. Also word2vec has representation of each of the words through a classification. These classifications would be previously trained on a corpus allowing for new data/words to be categorized making it easier to understand or map the content of a body of text\n",
    "\n",
    "As mentioned, word2vec is superior to bag of words when higher quality information from a document is needed. Extended past a keyword search or frequency count. Analyses such as semantic analysis is where it is useful. \n",
    "\n",
    "Alternatively, a bag of words model is superior if only lighter information is needed, and the dataset could be quite large. For instance if many articles had to be compared or even just one single very large book. In the instance of determining the genre of a novel for a library, using bag of words may be more efficient. \n"
   ]
  },
  {
   "cell_type": "markdown",
   "metadata": {},
   "source": [
    "# Part 2.2\n",
    "\n",
    "A word vector is a simple representation of the position of a word in the context of a document. Word embedding is where each word is encoded with an array of what is likely weights for a categorization score of that word into different semantic categories. For instance the word “chair” might be embedded with scores for “furniture”, “house, “pet”, etc. Whatever categories would be present in the corpus the model was trained on. Then when analyzing that text and reading “chair”, higher scores for “furniture” should be embedded.\n"
   ]
  },
  {
   "cell_type": "markdown",
   "metadata": {},
   "source": [
    "# Part 2.3\n",
    "\n",
    "A corpus in NLP is effectively the training text for a model. For instance, Python's NLTK has its own corpus which is quite large. The vocabulary is just the list of words found in the corpus that have been trained for. That is unlike the corpus which is the body of text which can be in a variety of different formats. "
   ]
  },
  {
   "cell_type": "code",
   "execution_count": 382,
   "metadata": {},
   "outputs": [],
   "source": [
    "import pandas as pd      \n",
    "import numpy as np\n",
    "from gensim.models import Word2Vec\n",
    "\n",
    "import nltk\n",
    "from nltk.tokenize import sent_tokenize\n",
    "import re\n",
    "from nltk.stem import PorterStemmer\n",
    "from nltk.tag import pos_tag\n",
    "from nltk.stem import WordNetLemmatizer\n"
   ]
  },
  {
   "cell_type": "code",
   "execution_count": 383,
   "metadata": {},
   "outputs": [],
   "source": [
    "stopwords_file = open(\"stopwords.txt\", \"r\")\n",
    "stopwords = stopwords_file.read().split('\\n')\n",
    "# print(stopwords)\n",
    "\n",
    "train = pd.read_csv(\"prideNprejudice.csv\", header=0, \\\n",
    "                    delimiter=\"\\t\", quoting=0)"
   ]
  },
  {
   "cell_type": "code",
   "execution_count": 384,
   "metadata": {},
   "outputs": [
    {
     "name": "stdout",
     "output_type": "stream",
     "text": [
      "(5370, 1)\n"
     ]
    }
   ],
   "source": [
    "print(train.shape)\n",
    "\n",
    "# print(train)\n"
   ]
  },
  {
   "cell_type": "code",
   "execution_count": 385,
   "metadata": {},
   "outputs": [],
   "source": [
    "df = train.copy()\n",
    "sentences = []\n",
    "\n",
    "for row in df.iterrows():\n",
    "    row[1][\"sentences\"] = re.sub('[^a-zA-Z]',' ',row[1][\"sentences\"])\n",
    "    row[1][\"sentences\"] = row[1][\"sentences\"].lower()\n",
    "    row[1][\"sentences\"] = row[1][\"sentences\"].split()\n",
    "    row[1][\"sentences\"] = [w for w in row[1][\"sentences\"] if not w in stopwords]\n",
    "#     print(row[1][\"sentences\"])\n",
    "    sentences.append(row[1][\"sentences\"])\n",
    "    \n",
    "# print(sentences)\n"
   ]
  },
  {
   "cell_type": "code",
   "execution_count": 386,
   "metadata": {},
   "outputs": [],
   "source": [
    "model = Word2Vec(sentences, size=100, window=5, min_count=5, workers=4, iter=8)"
   ]
  },
  {
   "cell_type": "code",
   "execution_count": 387,
   "metadata": {},
   "outputs": [
    {
     "name": "stdout",
     "output_type": "stream",
     "text": [
      "Word2Vec(vocab=1819, size=100, alpha=0.025)\n",
      "100\n"
     ]
    },
    {
     "name": "stderr",
     "output_type": "stream",
     "text": [
      "C:\\Users\\Ashis\\Anaconda3\\envs\\data-x\\lib\\site-packages\\ipykernel_launcher.py:3: DeprecationWarning: Call to deprecated `__getitem__` (Method will be removed in 4.0.0, use self.wv.__getitem__() instead).\n",
      "  This is separate from the ipykernel package so we can avoid doing imports until\n"
     ]
    },
    {
     "data": {
      "text/plain": [
       "8"
      ]
     },
     "execution_count": 387,
     "metadata": {},
     "output_type": "execute_result"
    }
   ],
   "source": [
    "print(model)\n",
    "len(model.wv.vocab)\n",
    "print(len(model[\"girl\"]))\n",
    "model.__dict__[\"epochs\"]\n",
    "# dir(Word2Vec)\n"
   ]
  },
  {
   "cell_type": "code",
   "execution_count": 388,
   "metadata": {},
   "outputs": [
    {
     "name": "stderr",
     "output_type": "stream",
     "text": [
      "C:\\Users\\Ashis\\Anaconda3\\envs\\data-x\\lib\\site-packages\\ipykernel_launcher.py:1: DeprecationWarning: Call to deprecated `similarity` (Method will be removed in 4.0.0, use self.wv.similarity() instead).\n",
      "  \"\"\"Entry point for launching an IPython kernel.\n"
     ]
    },
    {
     "data": {
      "text/plain": [
       "0.99975609014208167"
      ]
     },
     "execution_count": 388,
     "metadata": {},
     "output_type": "execute_result"
    }
   ],
   "source": [
    "model.similarity(\"elizabeth\", \"girl\")"
   ]
  },
  {
   "cell_type": "code",
   "execution_count": null,
   "metadata": {},
   "outputs": [],
   "source": []
  },
  {
   "cell_type": "code",
   "execution_count": 389,
   "metadata": {},
   "outputs": [],
   "source": [
    "vocab =  list(model.wv.vocab)\n",
    "# print(vocab)\n",
    "# model[vocab]"
   ]
  },
  {
   "cell_type": "code",
   "execution_count": 390,
   "metadata": {},
   "outputs": [
    {
     "name": "stderr",
     "output_type": "stream",
     "text": [
      "C:\\Users\\Ashis\\Anaconda3\\envs\\data-x\\lib\\site-packages\\ipykernel_launcher.py:4: DeprecationWarning: Call to deprecated `__getitem__` (Method will be removed in 4.0.0, use self.wv.__getitem__() instead).\n",
      "  after removing the cwd from sys.path.\n"
     ]
    },
    {
     "data": {
      "image/png": "[encoded data removed]",
      "text/plain": [
       "<matplotlib.figure.Figure at 0x1f26b1720f0>"
      ]
     },
     "metadata": {},
     "output_type": "display_data"
    }
   ],
   "source": [
    "import matplotlib.pyplot as plt\n",
    "from sklearn import decomposition\n",
    "# get two principle components of the feature space\n",
    "pca= decomposition.PCA(n_components=2).fit_transform(model[vocab])\n",
    "\n",
    "# set figure settings\n",
    "plt.figure(figsize=(10,10),dpi=100)\n",
    "\n",
    "# save pca values and vocab in dataframe df\n",
    "df = pd.concat([pd.DataFrame(pca),pd.Series(vocab)],axis=1)\n",
    "df.columns = ['x', 'y', 'word']\n",
    "\n",
    "\n",
    "\n",
    "plt.xlabel(\"Ist principal component\")\n",
    "plt.ylabel('2nd principal component')\n",
    "\n",
    "\n",
    "plt.scatter(x=pca[:, 0], y=pca[:, 1],s=3)\n",
    "for i, word in enumerate(df['word'][0:100]):\n",
    "    plt.annotate(word, (df['x'].iloc[i], df['y'].iloc[i]))\n",
    "plt.title(\"PCA Embedding\")\n",
    "plt.ylim(ymax=0.065)\n",
    "plt.show()     "
   ]
  },
  {
   "cell_type": "markdown",
   "metadata": {},
   "source": [
    "# Evaluations"
   ]
  },
  {
   "cell_type": "code",
   "execution_count": 391,
   "metadata": {},
   "outputs": [
    {
     "name": "stdout",
     "output_type": "stream",
     "text": [
      "0.999756090142\n",
      "('brother', 0.9998725652694702)\n",
      "story\n",
      "('happiness', 0.9998894929885864)\n",
      "0.999084711867\n"
     ]
    },
    {
     "name": "stderr",
     "output_type": "stream",
     "text": [
      "C:\\Users\\Ashis\\Anaconda3\\envs\\data-x\\lib\\site-packages\\ipykernel_launcher.py:1: DeprecationWarning: Call to deprecated `similarity` (Method will be removed in 4.0.0, use self.wv.similarity() instead).\n",
      "  \"\"\"Entry point for launching an IPython kernel.\n",
      "C:\\Users\\Ashis\\Anaconda3\\envs\\data-x\\lib\\site-packages\\ipykernel_launcher.py:2: DeprecationWarning: Call to deprecated `most_similar` (Method will be removed in 4.0.0, use self.wv.most_similar() instead).\n",
      "  \n",
      "C:\\Users\\Ashis\\Anaconda3\\envs\\data-x\\lib\\site-packages\\ipykernel_launcher.py:3: DeprecationWarning: Call to deprecated `doesnt_match` (Method will be removed in 4.0.0, use self.wv.doesnt_match() instead).\n",
      "  This is separate from the ipykernel package so we can avoid doing imports until\n",
      "C:\\Users\\Ashis\\Anaconda3\\envs\\data-x\\lib\\site-packages\\ipykernel_launcher.py:4: DeprecationWarning: Call to deprecated `most_similar` (Method will be removed in 4.0.0, use self.wv.most_similar() instead).\n",
      "  after removing the cwd from sys.path.\n",
      "C:\\Users\\Ashis\\Anaconda3\\envs\\data-x\\lib\\site-packages\\ipykernel_launcher.py:5: DeprecationWarning: Call to deprecated `similarity` (Method will be removed in 4.0.0, use self.wv.similarity() instead).\n",
      "  \"\"\"\n"
     ]
    }
   ],
   "source": [
    "print(model.similarity(\"elizabeth\", \"girl\"))\n",
    "print(model.most_similar(\"girl\")[0])\n",
    "print(model.doesnt_match(['story', 'great', 'spirit', 'disposition', 'delighted', 'altogether']))\n",
    "print(model.most_similar(\"woman\")[0])\n",
    "print(model.similarity(\"great\", \"spirit\"))"
   ]
  },
  {
   "cell_type": "markdown",
   "metadata": {},
   "source": [
    "# Part 3"
   ]
  },
  {
   "cell_type": "code",
   "execution_count": 392,
   "metadata": {},
   "outputs": [],
   "source": [
    "import sqlite3"
   ]
  },
  {
   "cell_type": "code",
   "execution_count": 393,
   "metadata": {},
   "outputs": [],
   "source": [
    "connection = sqlite3.connect('parents.db')"
   ]
  },
  {
   "cell_type": "code",
   "execution_count": 394,
   "metadata": {},
   "outputs": [
    {
     "name": "stdout",
     "output_type": "stream",
     "text": [
      " Volume in drive C has no label.\n",
      " Volume Serial Number is 34B9-EDC6\n",
      "\n",
      " Directory of C:\\Users\\Ashis\\Documents\\Code\\ashisghosh_data_x_s18\\hw\\hw4\n",
      "\n",
      "04/24/2018  03:14 PM    <DIR>          .\n",
      "04/24/2018  03:14 PM    <DIR>          ..\n",
      "04/24/2018  03:03 PM    <DIR>          .ipynb_checkpoints\n",
      "04/24/2018  03:01 PM           150,900 HW4.ipynb\n",
      "04/24/2018  03:14 PM            28,335 HW4_DataX.ipynb\n",
      "04/24/2018  02:59 PM            16,384 parents.db\n",
      "04/24/2018  03:01 AM           683,859 prideNprejudice.csv\n",
      "04/24/2018  12:51 PM               621 stopwords.txt\n",
      "               5 File(s)        880,099 bytes\n",
      "               3 Dir(s)  31,595,474,944 bytes free\n"
     ]
    }
   ],
   "source": [
    "!dir"
   ]
  },
  {
   "cell_type": "code",
   "execution_count": 395,
   "metadata": {},
   "outputs": [],
   "source": [
    "cursor = connection.cursor()"
   ]
  },
  {
   "cell_type": "code",
   "execution_count": 396,
   "metadata": {},
   "outputs": [
    {
     "data": {
      "text/plain": [
       "<sqlite3.Cursor at 0x1f26adbb7a0>"
      ]
     },
     "execution_count": 396,
     "metadata": {},
     "output_type": "execute_result"
    }
   ],
   "source": [
    "cursor.execute(\"DROP TABLE IF EXISTS parents;\")"
   ]
  },
  {
   "cell_type": "code",
   "execution_count": 397,
   "metadata": {},
   "outputs": [],
   "source": [
    "sql_command = \"\"\"\n",
    "CREATE TABLE parents (\n",
    "parent VARCHAR(20),\n",
    "child VARCHAR(20));\n",
    "\"\"\""
   ]
  },
  {
   "cell_type": "code",
   "execution_count": 398,
   "metadata": {},
   "outputs": [
    {
     "data": {
      "text/plain": [
       "<sqlite3.Cursor at 0x1f26adbb7a0>"
      ]
     },
     "execution_count": 398,
     "metadata": {},
     "output_type": "execute_result"
    }
   ],
   "source": [
    "cursor.execute(sql_command)"
   ]
  },
  {
   "cell_type": "markdown",
   "metadata": {},
   "source": [
    "# Part 3.1"
   ]
  },
  {
   "cell_type": "code",
   "execution_count": 399,
   "metadata": {},
   "outputs": [],
   "source": [
    "sql_command = \"\"\"\n",
    "INSERT INTO parents (parent, child)\n",
    " VALUES (\"abraham\", \"barack\") UNION\n",
    " VALUES (\"abraham\", \"clinton\") UNION\n",
    " VALUES (\"delano\", \"herbert\") UNION\n",
    " VALUES (\"fillmore\", \"abraham\") UNION\n",
    " VALUES (\"fillmore\", \"delano\") UNION\n",
    " VALUES (\"fillmore\", \"grover\") UNION\n",
    " VALUES (\"eisenhower\", \"fillmore\");\n",
    " \"\"\""
   ]
  },
  {
   "cell_type": "code",
   "execution_count": 400,
   "metadata": {},
   "outputs": [
    {
     "data": {
      "text/plain": [
       "<sqlite3.Cursor at 0x1f26adbb7a0>"
      ]
     },
     "execution_count": 400,
     "metadata": {},
     "output_type": "execute_result"
    }
   ],
   "source": [
    "cursor.execute(sql_command)"
   ]
  },
  {
   "cell_type": "code",
   "execution_count": 401,
   "metadata": {},
   "outputs": [],
   "source": [
    "connection.commit() \n",
    "\n",
    "connection.close()"
   ]
  },
  {
   "cell_type": "code",
   "execution_count": 402,
   "metadata": {},
   "outputs": [],
   "source": [
    "connection = sqlite3.connect('parents.db')\n",
    "\n",
    "cursor = connection.cursor()"
   ]
  },
  {
   "cell_type": "code",
   "execution_count": 403,
   "metadata": {},
   "outputs": [
    {
     "data": {
      "text/html": [
       "<div>\n",
       "<style>\n",
       "    .dataframe thead tr:only-child th {\n",
       "        text-align: right;\n",
       "    }\n",
       "\n",
       "    .dataframe thead th {\n",
       "        text-align: left;\n",
       "    }\n",
       "\n",
       "    .dataframe tbody tr th {\n",
       "        vertical-align: top;\n",
       "    }\n",
       "</style>\n",
       "<table border=\"1\" class=\"dataframe\">\n",
       "  <thead>\n",
       "    <tr style=\"text-align: right;\">\n",
       "      <th></th>\n",
       "      <th>parent</th>\n",
       "      <th>child</th>\n",
       "    </tr>\n",
       "  </thead>\n",
       "  <tbody>\n",
       "    <tr>\n",
       "      <th>0</th>\n",
       "      <td>abraham</td>\n",
       "      <td>barack</td>\n",
       "    </tr>\n",
       "    <tr>\n",
       "      <th>1</th>\n",
       "      <td>abraham</td>\n",
       "      <td>clinton</td>\n",
       "    </tr>\n",
       "    <tr>\n",
       "      <th>2</th>\n",
       "      <td>delano</td>\n",
       "      <td>herbert</td>\n",
       "    </tr>\n",
       "    <tr>\n",
       "      <th>3</th>\n",
       "      <td>eisenhower</td>\n",
       "      <td>fillmore</td>\n",
       "    </tr>\n",
       "    <tr>\n",
       "      <th>4</th>\n",
       "      <td>fillmore</td>\n",
       "      <td>abraham</td>\n",
       "    </tr>\n",
       "    <tr>\n",
       "      <th>5</th>\n",
       "      <td>fillmore</td>\n",
       "      <td>delano</td>\n",
       "    </tr>\n",
       "    <tr>\n",
       "      <th>6</th>\n",
       "      <td>fillmore</td>\n",
       "      <td>grover</td>\n",
       "    </tr>\n",
       "  </tbody>\n",
       "</table>\n",
       "</div>"
      ],
      "text/plain": [
       "       parent     child\n",
       "0     abraham    barack\n",
       "1     abraham   clinton\n",
       "2      delano   herbert\n",
       "3  eisenhower  fillmore\n",
       "4    fillmore   abraham\n",
       "5    fillmore    delano\n",
       "6    fillmore    grover"
      ]
     },
     "execution_count": 403,
     "metadata": {},
     "output_type": "execute_result"
    }
   ],
   "source": [
    "a = pd.read_sql_query('SELECT * FROM parents',con = connection)\n",
    "a"
   ]
  },
  {
   "cell_type": "code",
   "execution_count": 404,
   "metadata": {},
   "outputs": [
    {
     "data": {
      "text/html": [
       "<div>\n",
       "<style>\n",
       "    .dataframe thead tr:only-child th {\n",
       "        text-align: right;\n",
       "    }\n",
       "\n",
       "    .dataframe thead th {\n",
       "        text-align: left;\n",
       "    }\n",
       "\n",
       "    .dataframe tbody tr th {\n",
       "        vertical-align: top;\n",
       "    }\n",
       "</style>\n",
       "<table border=\"1\" class=\"dataframe\">\n",
       "  <thead>\n",
       "    <tr style=\"text-align: right;\">\n",
       "      <th></th>\n",
       "      <th>parent</th>\n",
       "      <th>child</th>\n",
       "    </tr>\n",
       "  </thead>\n",
       "  <tbody>\n",
       "    <tr>\n",
       "      <th>0</th>\n",
       "      <td>abraham</td>\n",
       "      <td>barack</td>\n",
       "    </tr>\n",
       "    <tr>\n",
       "      <th>1</th>\n",
       "      <td>abraham</td>\n",
       "      <td>clinton</td>\n",
       "    </tr>\n",
       "  </tbody>\n",
       "</table>\n",
       "</div>"
      ],
      "text/plain": [
       "    parent    child\n",
       "0  abraham   barack\n",
       "1  abraham  clinton"
      ]
     },
     "execution_count": 404,
     "metadata": {},
     "output_type": "execute_result"
    }
   ],
   "source": [
    "b = pd.read_sql_query('SELECT * FROM parents WHERE parent=\"abraham\"',con = connection)\n",
    "b"
   ]
  },
  {
   "cell_type": "code",
   "execution_count": 405,
   "metadata": {},
   "outputs": [
    {
     "data": {
      "text/html": [
       "<div>\n",
       "<style>\n",
       "    .dataframe thead tr:only-child th {\n",
       "        text-align: right;\n",
       "    }\n",
       "\n",
       "    .dataframe thead th {\n",
       "        text-align: left;\n",
       "    }\n",
       "\n",
       "    .dataframe tbody tr th {\n",
       "        vertical-align: top;\n",
       "    }\n",
       "</style>\n",
       "<table border=\"1\" class=\"dataframe\">\n",
       "  <thead>\n",
       "    <tr style=\"text-align: right;\">\n",
       "      <th></th>\n",
       "      <th>parent</th>\n",
       "      <th>child</th>\n",
       "    </tr>\n",
       "  </thead>\n",
       "  <tbody>\n",
       "    <tr>\n",
       "      <th>0</th>\n",
       "      <td>delano</td>\n",
       "      <td>herbert</td>\n",
       "    </tr>\n",
       "    <tr>\n",
       "      <th>1</th>\n",
       "      <td>eisenhower</td>\n",
       "      <td>fillmore</td>\n",
       "    </tr>\n",
       "    <tr>\n",
       "      <th>2</th>\n",
       "      <td>fillmore</td>\n",
       "      <td>delano</td>\n",
       "    </tr>\n",
       "    <tr>\n",
       "      <th>3</th>\n",
       "      <td>fillmore</td>\n",
       "      <td>grover</td>\n",
       "    </tr>\n",
       "  </tbody>\n",
       "</table>\n",
       "</div>"
      ],
      "text/plain": [
       "       parent     child\n",
       "0      delano   herbert\n",
       "1  eisenhower  fillmore\n",
       "2    fillmore    delano\n",
       "3    fillmore    grover"
      ]
     },
     "execution_count": 405,
     "metadata": {},
     "output_type": "execute_result"
    }
   ],
   "source": [
    "c = pd.read_sql_query('SELECT * FROM parents WHERE child LIKE \"%e%\"',con = connection)\n",
    "c"
   ]
  },
  {
   "cell_type": "code",
   "execution_count": 406,
   "metadata": {},
   "outputs": [
    {
     "data": {
      "text/html": [
       "<div>\n",
       "<style>\n",
       "    .dataframe thead tr:only-child th {\n",
       "        text-align: right;\n",
       "    }\n",
       "\n",
       "    .dataframe thead th {\n",
       "        text-align: left;\n",
       "    }\n",
       "\n",
       "    .dataframe tbody tr th {\n",
       "        vertical-align: top;\n",
       "    }\n",
       "</style>\n",
       "<table border=\"1\" class=\"dataframe\">\n",
       "  <thead>\n",
       "    <tr style=\"text-align: right;\">\n",
       "      <th></th>\n",
       "      <th>parent</th>\n",
       "    </tr>\n",
       "  </thead>\n",
       "  <tbody>\n",
       "    <tr>\n",
       "      <th>0</th>\n",
       "      <td>fillmore</td>\n",
       "    </tr>\n",
       "    <tr>\n",
       "      <th>1</th>\n",
       "      <td>eisenhower</td>\n",
       "    </tr>\n",
       "    <tr>\n",
       "      <th>2</th>\n",
       "      <td>delano</td>\n",
       "    </tr>\n",
       "    <tr>\n",
       "      <th>3</th>\n",
       "      <td>abraham</td>\n",
       "    </tr>\n",
       "  </tbody>\n",
       "</table>\n",
       "</div>"
      ],
      "text/plain": [
       "       parent\n",
       "0    fillmore\n",
       "1  eisenhower\n",
       "2      delano\n",
       "3     abraham"
      ]
     },
     "execution_count": 406,
     "metadata": {},
     "output_type": "execute_result"
    }
   ],
   "source": [
    "d = pd.read_sql_query('SELECT DISTINCT parent FROM parents ORDER BY parent DESC',con = connection)\n",
    "d"
   ]
  },
  {
   "cell_type": "code",
   "execution_count": 407,
   "metadata": {},
   "outputs": [
    {
     "data": {
      "text/html": [
       "<div>\n",
       "<style>\n",
       "    .dataframe thead tr:only-child th {\n",
       "        text-align: right;\n",
       "    }\n",
       "\n",
       "    .dataframe thead th {\n",
       "        text-align: left;\n",
       "    }\n",
       "\n",
       "    .dataframe tbody tr th {\n",
       "        vertical-align: top;\n",
       "    }\n",
       "</style>\n",
       "<table border=\"1\" class=\"dataframe\">\n",
       "  <thead>\n",
       "    <tr style=\"text-align: right;\">\n",
       "      <th></th>\n",
       "      <th>child</th>\n",
       "    </tr>\n",
       "  </thead>\n",
       "  <tbody>\n",
       "    <tr>\n",
       "      <th>0</th>\n",
       "      <td>barack</td>\n",
       "    </tr>\n",
       "    <tr>\n",
       "      <th>1</th>\n",
       "      <td>clinton</td>\n",
       "    </tr>\n",
       "    <tr>\n",
       "      <th>2</th>\n",
       "      <td>abraham</td>\n",
       "    </tr>\n",
       "    <tr>\n",
       "      <th>3</th>\n",
       "      <td>delano</td>\n",
       "    </tr>\n",
       "    <tr>\n",
       "      <th>4</th>\n",
       "      <td>grover</td>\n",
       "    </tr>\n",
       "  </tbody>\n",
       "</table>\n",
       "</div>"
      ],
      "text/plain": [
       "     child\n",
       "0   barack\n",
       "1  clinton\n",
       "2  abraham\n",
       "3   delano\n",
       "4   grover"
      ]
     },
     "execution_count": 407,
     "metadata": {},
     "output_type": "execute_result"
    }
   ],
   "source": [
    "e = pd.read_sql_query('SELECT * FROM parents',con = connection)\n",
    "# e = pd.read_sql_query('')\n",
    "sql_command = \"\"\"\n",
    "SELECT parent, COUNT(*) \n",
    "FROM parents\n",
    "GROUP BY parent\n",
    "HAVING COUNT(*) > 1\n",
    "\"\"\"\n",
    "e = pd.read_sql_query(sql_command, con = connection)\n",
    "\n",
    "# f = cursor.execute(sql_command).fetchall()\n",
    "e\n",
    "\n",
    "sql_command = \"\"\"\n",
    "SELECT child \n",
    "FROM parents\n",
    "WHERE parent=\"abraham\"\n",
    "OR\n",
    "parent = \"fillmore\"\n",
    "\"\"\"\n",
    "\n",
    "f = pd.read_sql_query(sql_command, con = connection)\n",
    "\n",
    "f\n"
   ]
  },
  {
   "cell_type": "markdown",
   "metadata": {},
   "source": [
    "# Part 3.2"
   ]
  },
  {
   "cell_type": "code",
   "execution_count": 408,
   "metadata": {},
   "outputs": [
    {
     "data": {
      "text/plain": [
       "<sqlite3.Cursor at 0x1f26adbb880>"
      ]
     },
     "execution_count": 408,
     "metadata": {},
     "output_type": "execute_result"
    }
   ],
   "source": [
    "cursor.execute(\"DROP TABLE IF EXISTS dogs;\")\n",
    "\n",
    "sql_command = \"\"\"\n",
    "CREATE TABLE dogs AS\n",
    " SELECT \"abraham\" AS name, \"long\" AS fur UNION\n",
    " SELECT \"barack\", \"short\" UNION\n",
    " SELECT \"clinton\", \"long\" UNION\n",
    " SELECT \"delano\", \"long\" UNION\n",
    " SELECT \"eisenhower\", \"short\" UNION\n",
    " SELECT \"fillmore\", \"curly\" UNION\n",
    " SELECT \"grover\", \"short\" UNION\n",
    " SELECT \"herbert\", \"curly\";\n",
    " \"\"\"\n",
    "\n",
    "cursor.execute(sql_command)"
   ]
  },
  {
   "cell_type": "code",
   "execution_count": 409,
   "metadata": {},
   "outputs": [
    {
     "data": {
      "text/html": [
       "<div>\n",
       "<style>\n",
       "    .dataframe thead tr:only-child th {\n",
       "        text-align: right;\n",
       "    }\n",
       "\n",
       "    .dataframe thead th {\n",
       "        text-align: left;\n",
       "    }\n",
       "\n",
       "    .dataframe tbody tr th {\n",
       "        vertical-align: top;\n",
       "    }\n",
       "</style>\n",
       "<table border=\"1\" class=\"dataframe\">\n",
       "  <thead>\n",
       "    <tr style=\"text-align: right;\">\n",
       "      <th></th>\n",
       "      <th>name</th>\n",
       "      <th>fur</th>\n",
       "      <th>COUNT(fur)</th>\n",
       "    </tr>\n",
       "  </thead>\n",
       "  <tbody>\n",
       "    <tr>\n",
       "      <th>0</th>\n",
       "      <td>grover</td>\n",
       "      <td>short</td>\n",
       "      <td>3</td>\n",
       "    </tr>\n",
       "  </tbody>\n",
       "</table>\n",
       "</div>"
      ],
      "text/plain": [
       "     name    fur  COUNT(fur)\n",
       "0  grover  short           3"
      ]
     },
     "execution_count": 409,
     "metadata": {},
     "output_type": "execute_result"
    }
   ],
   "source": [
    "g = pd.read_sql_query('SELECT *, COUNT(fur) FROM dogs WHERE fur=\"short\"', con = connection)\n",
    "g"
   ]
  },
  {
   "cell_type": "code",
   "execution_count": 410,
   "metadata": {},
   "outputs": [
    {
     "data": {
      "text/html": [
       "<div>\n",
       "<style>\n",
       "    .dataframe thead tr:only-child th {\n",
       "        text-align: right;\n",
       "    }\n",
       "\n",
       "    .dataframe thead th {\n",
       "        text-align: left;\n",
       "    }\n",
       "\n",
       "    .dataframe tbody tr th {\n",
       "        vertical-align: top;\n",
       "    }\n",
       "</style>\n",
       "<table border=\"1\" class=\"dataframe\">\n",
       "  <thead>\n",
       "    <tr style=\"text-align: right;\">\n",
       "      <th></th>\n",
       "      <th>parent</th>\n",
       "    </tr>\n",
       "  </thead>\n",
       "  <tbody>\n",
       "    <tr>\n",
       "      <th>0</th>\n",
       "      <td>eisenhower</td>\n",
       "    </tr>\n",
       "    <tr>\n",
       "      <th>1</th>\n",
       "      <td>delano</td>\n",
       "    </tr>\n",
       "  </tbody>\n",
       "</table>\n",
       "</div>"
      ],
      "text/plain": [
       "       parent\n",
       "0  eisenhower\n",
       "1      delano"
      ]
     },
     "execution_count": 410,
     "metadata": {},
     "output_type": "execute_result"
    }
   ],
   "source": [
    "sql_command = \"\"\"\n",
    "SELECT parent\n",
    "FROM dogs\n",
    "INNER JOIN parents ON dogs.name = parents.child\n",
    "WHERE fur=\"curly\";\n",
    "\"\"\"\n",
    "\n",
    "h = pd.read_sql_query(sql_command, con=connection)\n",
    "h\n",
    "\n"
   ]
  },
  {
   "cell_type": "code",
   "execution_count": 411,
   "metadata": {},
   "outputs": [
    {
     "data": {
      "text/html": [
       "<div>\n",
       "<style>\n",
       "    .dataframe thead tr:only-child th {\n",
       "        text-align: right;\n",
       "    }\n",
       "\n",
       "    .dataframe thead th {\n",
       "        text-align: left;\n",
       "    }\n",
       "\n",
       "    .dataframe tbody tr th {\n",
       "        vertical-align: top;\n",
       "    }\n",
       "</style>\n",
       "<table border=\"1\" class=\"dataframe\">\n",
       "  <thead>\n",
       "    <tr style=\"text-align: right;\">\n",
       "      <th></th>\n",
       "      <th>parent</th>\n",
       "      <th>child</th>\n",
       "    </tr>\n",
       "  </thead>\n",
       "  <tbody>\n",
       "    <tr>\n",
       "      <th>0</th>\n",
       "      <td>abraham</td>\n",
       "      <td>barack</td>\n",
       "    </tr>\n",
       "    <tr>\n",
       "      <th>1</th>\n",
       "      <td>abraham</td>\n",
       "      <td>clinton</td>\n",
       "    </tr>\n",
       "    <tr>\n",
       "      <th>2</th>\n",
       "      <td>delano</td>\n",
       "      <td>herbert</td>\n",
       "    </tr>\n",
       "    <tr>\n",
       "      <th>3</th>\n",
       "      <td>eisenhower</td>\n",
       "      <td>fillmore</td>\n",
       "    </tr>\n",
       "    <tr>\n",
       "      <th>4</th>\n",
       "      <td>fillmore</td>\n",
       "      <td>abraham</td>\n",
       "    </tr>\n",
       "    <tr>\n",
       "      <th>5</th>\n",
       "      <td>fillmore</td>\n",
       "      <td>delano</td>\n",
       "    </tr>\n",
       "    <tr>\n",
       "      <th>6</th>\n",
       "      <td>fillmore</td>\n",
       "      <td>grover</td>\n",
       "    </tr>\n",
       "  </tbody>\n",
       "</table>\n",
       "</div>"
      ],
      "text/plain": [
       "       parent     child\n",
       "0     abraham    barack\n",
       "1     abraham   clinton\n",
       "2      delano   herbert\n",
       "3  eisenhower  fillmore\n",
       "4    fillmore   abraham\n",
       "5    fillmore    delano\n",
       "6    fillmore    grover"
      ]
     },
     "execution_count": 411,
     "metadata": {},
     "output_type": "execute_result"
    }
   ],
   "source": [
    "sql_command = \"\"\"\n",
    "SELECT * FROM parents\n",
    "\"\"\"\n",
    "# GROUP BY fur;Z\n",
    "# WHERE fur=\"curly\";\n",
    "i = pd.read_sql_query(sql_command, con=connection)\n",
    "i\n",
    "\n"
   ]
  },
  {
   "cell_type": "code",
   "execution_count": 412,
   "metadata": {},
   "outputs": [
    {
     "data": {
      "text/html": [
       "<div>\n",
       "<style>\n",
       "    .dataframe thead tr:only-child th {\n",
       "        text-align: right;\n",
       "    }\n",
       "\n",
       "    .dataframe thead th {\n",
       "        text-align: left;\n",
       "    }\n",
       "\n",
       "    .dataframe tbody tr th {\n",
       "        vertical-align: top;\n",
       "    }\n",
       "</style>\n",
       "<table border=\"1\" class=\"dataframe\">\n",
       "  <thead>\n",
       "    <tr style=\"text-align: right;\">\n",
       "      <th></th>\n",
       "      <th>name</th>\n",
       "      <th>fur</th>\n",
       "    </tr>\n",
       "  </thead>\n",
       "  <tbody>\n",
       "    <tr>\n",
       "      <th>0</th>\n",
       "      <td>abraham</td>\n",
       "      <td>long</td>\n",
       "    </tr>\n",
       "    <tr>\n",
       "      <th>1</th>\n",
       "      <td>barack</td>\n",
       "      <td>short</td>\n",
       "    </tr>\n",
       "    <tr>\n",
       "      <th>2</th>\n",
       "      <td>clinton</td>\n",
       "      <td>long</td>\n",
       "    </tr>\n",
       "    <tr>\n",
       "      <th>3</th>\n",
       "      <td>delano</td>\n",
       "      <td>long</td>\n",
       "    </tr>\n",
       "    <tr>\n",
       "      <th>4</th>\n",
       "      <td>eisenhower</td>\n",
       "      <td>short</td>\n",
       "    </tr>\n",
       "    <tr>\n",
       "      <th>5</th>\n",
       "      <td>fillmore</td>\n",
       "      <td>curly</td>\n",
       "    </tr>\n",
       "    <tr>\n",
       "      <th>6</th>\n",
       "      <td>grover</td>\n",
       "      <td>short</td>\n",
       "    </tr>\n",
       "    <tr>\n",
       "      <th>7</th>\n",
       "      <td>herbert</td>\n",
       "      <td>curly</td>\n",
       "    </tr>\n",
       "  </tbody>\n",
       "</table>\n",
       "</div>"
      ],
      "text/plain": [
       "         name    fur\n",
       "0     abraham   long\n",
       "1      barack  short\n",
       "2     clinton   long\n",
       "3      delano   long\n",
       "4  eisenhower  short\n",
       "5    fillmore  curly\n",
       "6      grover  short\n",
       "7     herbert  curly"
      ]
     },
     "execution_count": 412,
     "metadata": {},
     "output_type": "execute_result"
    }
   ],
   "source": [
    "sql_command = \"\"\"\n",
    "SELECT * FROM dogs\n",
    "\"\"\"\n",
    "# GROUP BY fur;Z\n",
    "# WHERE fur=\"curly\";\n",
    "ia = pd.read_sql_query(sql_command, con=connection)\n",
    "ia"
   ]
  },
  {
   "cell_type": "code",
   "execution_count": 413,
   "metadata": {},
   "outputs": [
    {
     "data": {
      "text/html": [
       "<div>\n",
       "<style>\n",
       "    .dataframe thead tr:only-child th {\n",
       "        text-align: right;\n",
       "    }\n",
       "\n",
       "    .dataframe thead th {\n",
       "        text-align: left;\n",
       "    }\n",
       "\n",
       "    .dataframe tbody tr th {\n",
       "        vertical-align: top;\n",
       "    }\n",
       "</style>\n",
       "<table border=\"1\" class=\"dataframe\">\n",
       "  <thead>\n",
       "    <tr style=\"text-align: right;\">\n",
       "      <th></th>\n",
       "      <th>parent</th>\n",
       "      <th>child</th>\n",
       "    </tr>\n",
       "  </thead>\n",
       "  <tbody>\n",
       "    <tr>\n",
       "      <th>0</th>\n",
       "      <td>abraham</td>\n",
       "      <td>clinton</td>\n",
       "    </tr>\n",
       "  </tbody>\n",
       "</table>\n",
       "</div>"
      ],
      "text/plain": [
       "    parent    child\n",
       "0  abraham  clinton"
      ]
     },
     "execution_count": 413,
     "metadata": {},
     "output_type": "execute_result"
    }
   ],
   "source": [
    "sql_command = \"\"\"\n",
    "SELECT parent, child\n",
    "FROM parents\n",
    "LEFT JOIN dogs ON parents.parent == dogs.name\n",
    "LEFT JOIN dogs AS dogs2 ON parents.child == dogs2.name\n",
    "WHERE dogs.fur==dogs2.fur\n",
    "\"\"\"\n",
    "# GROUP BY fur;Z\n",
    "# WHERE fur=\"curly\";\n",
    "ib = pd.read_sql_query(sql_command, con=connection)\n",
    "ib"
   ]
  },
  {
   "cell_type": "markdown",
   "metadata": {},
   "source": [
    "# Part 3.3"
   ]
  },
  {
   "cell_type": "code",
   "execution_count": 414,
   "metadata": {},
   "outputs": [
    {
     "data": {
      "text/plain": [
       "<sqlite3.Cursor at 0x1f26adbb880>"
      ]
     },
     "execution_count": 414,
     "metadata": {},
     "output_type": "execute_result"
    }
   ],
   "source": [
    "cursor.execute(\"DROP TABLE IF EXISTS animals;\")\n",
    "\n",
    "sql_command = \"\"\"\n",
    "create table animals as\n",
    "select \"dog\" as kind, 4 as legs, 20 as weight union\n",
    "select \"cat\" , 4 , 10 union\n",
    "select \"ferret\" , 4 , 10 union\n",
    "select \"parrot\" , 2 , 6 union\n",
    "select \"penguin\" , 2 , 10 union\n",
    "select \"t-rex\" , 2 , 12000;\n",
    "\"\"\"\n",
    "\n",
    "j = cursor.execute(sql_command)\n",
    "j"
   ]
  },
  {
   "cell_type": "code",
   "execution_count": 415,
   "metadata": {},
   "outputs": [
    {
     "data": {
      "text/html": [
       "<div>\n",
       "<style>\n",
       "    .dataframe thead tr:only-child th {\n",
       "        text-align: right;\n",
       "    }\n",
       "\n",
       "    .dataframe thead th {\n",
       "        text-align: left;\n",
       "    }\n",
       "\n",
       "    .dataframe tbody tr th {\n",
       "        vertical-align: top;\n",
       "    }\n",
       "</style>\n",
       "<table border=\"1\" class=\"dataframe\">\n",
       "  <thead>\n",
       "    <tr style=\"text-align: right;\">\n",
       "      <th></th>\n",
       "      <th>kind</th>\n",
       "      <th>legs</th>\n",
       "      <th>weight</th>\n",
       "    </tr>\n",
       "  </thead>\n",
       "  <tbody>\n",
       "    <tr>\n",
       "      <th>0</th>\n",
       "      <td>cat</td>\n",
       "      <td>4</td>\n",
       "      <td>10</td>\n",
       "    </tr>\n",
       "    <tr>\n",
       "      <th>1</th>\n",
       "      <td>dog</td>\n",
       "      <td>4</td>\n",
       "      <td>20</td>\n",
       "    </tr>\n",
       "    <tr>\n",
       "      <th>2</th>\n",
       "      <td>ferret</td>\n",
       "      <td>4</td>\n",
       "      <td>10</td>\n",
       "    </tr>\n",
       "    <tr>\n",
       "      <th>3</th>\n",
       "      <td>parrot</td>\n",
       "      <td>2</td>\n",
       "      <td>6</td>\n",
       "    </tr>\n",
       "    <tr>\n",
       "      <th>4</th>\n",
       "      <td>penguin</td>\n",
       "      <td>2</td>\n",
       "      <td>10</td>\n",
       "    </tr>\n",
       "    <tr>\n",
       "      <th>5</th>\n",
       "      <td>t-rex</td>\n",
       "      <td>2</td>\n",
       "      <td>12000</td>\n",
       "    </tr>\n",
       "  </tbody>\n",
       "</table>\n",
       "</div>"
      ],
      "text/plain": [
       "      kind  legs  weight\n",
       "0      cat     4      10\n",
       "1      dog     4      20\n",
       "2   ferret     4      10\n",
       "3   parrot     2       6\n",
       "4  penguin     2      10\n",
       "5    t-rex     2   12000"
      ]
     },
     "execution_count": 415,
     "metadata": {},
     "output_type": "execute_result"
    }
   ],
   "source": [
    "k = pd.read_sql_query('SELECT * FROM animals', con=connection)\n",
    "k"
   ]
  },
  {
   "cell_type": "code",
   "execution_count": 416,
   "metadata": {},
   "outputs": [
    {
     "data": {
      "text/html": [
       "<div>\n",
       "<style>\n",
       "    .dataframe thead tr:only-child th {\n",
       "        text-align: right;\n",
       "    }\n",
       "\n",
       "    .dataframe thead th {\n",
       "        text-align: left;\n",
       "    }\n",
       "\n",
       "    .dataframe tbody tr th {\n",
       "        vertical-align: top;\n",
       "    }\n",
       "</style>\n",
       "<table border=\"1\" class=\"dataframe\">\n",
       "  <thead>\n",
       "    <tr style=\"text-align: right;\">\n",
       "      <th></th>\n",
       "      <th>kind</th>\n",
       "      <th>legs</th>\n",
       "      <th>weight</th>\n",
       "      <th>MIN(weight)</th>\n",
       "    </tr>\n",
       "  </thead>\n",
       "  <tbody>\n",
       "    <tr>\n",
       "      <th>0</th>\n",
       "      <td>parrot</td>\n",
       "      <td>2</td>\n",
       "      <td>6</td>\n",
       "      <td>6</td>\n",
       "    </tr>\n",
       "  </tbody>\n",
       "</table>\n",
       "</div>"
      ],
      "text/plain": [
       "     kind  legs  weight  MIN(weight)\n",
       "0  parrot     2       6            6"
      ]
     },
     "execution_count": 416,
     "metadata": {},
     "output_type": "execute_result"
    }
   ],
   "source": [
    "sql_command = \"\"\"\n",
    "SELECT *, MIN(weight) FROM animals\n",
    "\"\"\"\n",
    "\n",
    "l = pd.read_sql_query(sql_command, con=connection)\n",
    "l"
   ]
  },
  {
   "cell_type": "code",
   "execution_count": 417,
   "metadata": {},
   "outputs": [
    {
     "data": {
      "text/html": [
       "<div>\n",
       "<style>\n",
       "    .dataframe thead tr:only-child th {\n",
       "        text-align: right;\n",
       "    }\n",
       "\n",
       "    .dataframe thead th {\n",
       "        text-align: left;\n",
       "    }\n",
       "\n",
       "    .dataframe tbody tr th {\n",
       "        vertical-align: top;\n",
       "    }\n",
       "</style>\n",
       "<table border=\"1\" class=\"dataframe\">\n",
       "  <thead>\n",
       "    <tr style=\"text-align: right;\">\n",
       "      <th></th>\n",
       "      <th>AVG(legs)</th>\n",
       "      <th>AVG(weight)</th>\n",
       "    </tr>\n",
       "  </thead>\n",
       "  <tbody>\n",
       "    <tr>\n",
       "      <th>0</th>\n",
       "      <td>3.0</td>\n",
       "      <td>2009.333333</td>\n",
       "    </tr>\n",
       "  </tbody>\n",
       "</table>\n",
       "</div>"
      ],
      "text/plain": [
       "   AVG(legs)  AVG(weight)\n",
       "0        3.0  2009.333333"
      ]
     },
     "execution_count": 417,
     "metadata": {},
     "output_type": "execute_result"
    }
   ],
   "source": [
    "sql_command = \"\"\"\n",
    "SELECT AVG(legs), AVG(weight) FROM animals\n",
    "\"\"\"\n",
    "\n",
    "m = pd.read_sql_query(sql_command, con=connection)\n",
    "m"
   ]
  },
  {
   "cell_type": "code",
   "execution_count": 418,
   "metadata": {},
   "outputs": [
    {
     "data": {
      "text/html": [
       "<div>\n",
       "<style>\n",
       "    .dataframe thead tr:only-child th {\n",
       "        text-align: right;\n",
       "    }\n",
       "\n",
       "    .dataframe thead th {\n",
       "        text-align: left;\n",
       "    }\n",
       "\n",
       "    .dataframe tbody tr th {\n",
       "        vertical-align: top;\n",
       "    }\n",
       "</style>\n",
       "<table border=\"1\" class=\"dataframe\">\n",
       "  <thead>\n",
       "    <tr style=\"text-align: right;\">\n",
       "      <th></th>\n",
       "      <th>kind</th>\n",
       "      <th>legs</th>\n",
       "      <th>weight</th>\n",
       "    </tr>\n",
       "  </thead>\n",
       "  <tbody>\n",
       "    <tr>\n",
       "      <th>0</th>\n",
       "      <td>cat</td>\n",
       "      <td>4</td>\n",
       "      <td>10</td>\n",
       "    </tr>\n",
       "    <tr>\n",
       "      <th>1</th>\n",
       "      <td>ferret</td>\n",
       "      <td>4</td>\n",
       "      <td>10</td>\n",
       "    </tr>\n",
       "  </tbody>\n",
       "</table>\n",
       "</div>"
      ],
      "text/plain": [
       "     kind  legs  weight\n",
       "0     cat     4      10\n",
       "1  ferret     4      10"
      ]
     },
     "execution_count": 418,
     "metadata": {},
     "output_type": "execute_result"
    }
   ],
   "source": [
    "sql_command = \"\"\"\n",
    "SELECT * FROM animals\n",
    "WHERE legs > 2 AND weight < 20\n",
    "\"\"\"\n",
    "\n",
    "n = pd.read_sql_query(sql_command, con=connection)\n",
    "n"
   ]
  },
  {
   "cell_type": "code",
   "execution_count": 419,
   "metadata": {},
   "outputs": [
    {
     "data": {
      "text/html": [
       "<div>\n",
       "<style>\n",
       "    .dataframe thead tr:only-child th {\n",
       "        text-align: right;\n",
       "    }\n",
       "\n",
       "    .dataframe thead th {\n",
       "        text-align: left;\n",
       "    }\n",
       "\n",
       "    .dataframe tbody tr th {\n",
       "        vertical-align: top;\n",
       "    }\n",
       "</style>\n",
       "<table border=\"1\" class=\"dataframe\">\n",
       "  <thead>\n",
       "    <tr style=\"text-align: right;\">\n",
       "      <th></th>\n",
       "      <th>AVG(weight)</th>\n",
       "      <th>legs</th>\n",
       "    </tr>\n",
       "  </thead>\n",
       "  <tbody>\n",
       "    <tr>\n",
       "      <th>0</th>\n",
       "      <td>4005.333333</td>\n",
       "      <td>2</td>\n",
       "    </tr>\n",
       "    <tr>\n",
       "      <th>1</th>\n",
       "      <td>13.333333</td>\n",
       "      <td>4</td>\n",
       "    </tr>\n",
       "  </tbody>\n",
       "</table>\n",
       "</div>"
      ],
      "text/plain": [
       "   AVG(weight)  legs\n",
       "0  4005.333333     2\n",
       "1    13.333333     4"
      ]
     },
     "execution_count": 419,
     "metadata": {},
     "output_type": "execute_result"
    }
   ],
   "source": [
    "sql_command = \"\"\"\n",
    "SELECT AVG(weight), legs FROM animals\n",
    "GROUP BY legs\n",
    "\"\"\"\n",
    "\n",
    "o = pd.read_sql_query(sql_command, con=connection)\n",
    "o"
   ]
  },
  {
   "cell_type": "code",
   "execution_count": null,
   "metadata": {},
   "outputs": [],
   "source": []
  }
 ],
 "metadata": {
  "kernelspec": {
   "display_name": "Python 3",
   "language": "python",
   "name": "python3"
  },
  "language_info": {
   "codemirror_mode": {
    "name": "ipython",
    "version": 3
   },
   "file_extension": ".py",
   "mimetype": "text/x-python",
   "name": "python",
   "nbconvert_exporter": "python",
   "pygments_lexer": "ipython3",
   "version": "3.6.3"
  }
 },
 "nbformat": 4,
 "nbformat_minor": 2
}
